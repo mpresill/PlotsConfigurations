{
 "cells": [
  {
   "cell_type": "code",
   "execution_count": 1,
   "metadata": {
    "ExecuteTime": {
     "end_time": "2020-04-13T14:14:54.095141Z",
     "start_time": "2020-04-13T14:14:53.025373Z"
    }
   },
   "outputs": [],
   "source": [
    "import pickle\n",
    "import pandas as pd\n",
    "import numpy as np\n",
    "import matplotlib.pyplot as plt\n",
    "import os\n",
    "from collections import defaultdict\n",
    "import matplotlib as mpl\n",
    "\n",
    "mpl.rcParams['figure.figsize'] = (6,6)\n",
    "mpl.rcParams['figure.dpi'] = 100\n",
    "mpl.rcParams[\"image.origin\"] = 'lower'"
   ]
  },
  {
   "cell_type": "code",
   "execution_count": 2,
   "metadata": {
    "ExecuteTime": {
     "end_time": "2020-04-13T14:14:55.567357Z",
     "start_time": "2020-04-13T14:14:55.557167Z"
    }
   },
   "outputs": [],
   "source": [
    "base_dir = \"/eos/user/m/mpresill/www/VBS/Numpy/\"\n",
    "\n",
    "#plot_configs  = [\"Full2016v6s5_v2\",\"Full2017v6s5_v2\",\"Full2018v6s5_v2\"]\n",
    "plot_configs  = [\"DNN_2018_v6\"]\n",
    "#cut     = \"boos_sig_mjjincl\"\n",
    "cut     = \"Resolved_SR\"\n",
    "version = \"v1\"\n",
    "\n",
    "output_dir = os.path.join(base_dir, \"FullRun2\", cut, \"samples/\" + version)\n",
    "\n",
    "samples_dirs = [os.path.join(base_dir, p, cut, \"samples/\" + version) for p in plot_configs]"
   ]
  },
  {
   "cell_type": "code",
   "execution_count": 3,
   "metadata": {
    "ExecuteTime": {
     "end_time": "2020-04-13T14:14:59.387244Z",
     "start_time": "2020-04-13T14:14:59.378105Z"
    }
   },
   "outputs": [],
   "source": [
    "#samples_dirs #print here sample directory"
   ]
  },
  {
   "cell_type": "code",
   "execution_count": 4,
   "metadata": {
    "ExecuteTime": {
     "end_time": "2020-04-13T14:15:02.334957Z",
     "start_time": "2020-04-13T14:15:01.643008Z"
    }
   },
   "outputs": [
    {
     "name": "stdout",
     "output_type": "stream",
     "text": [
      "DY_part1.pkl\n",
      "DY_part2.pkl\n",
      "DY_part3.pkl\n",
      "VBF-V_part1.pkl\n",
      "VBS_VV_QCD_part1.pkl\n",
      "VBS_ZV_part1.pkl\n",
      "VVV_part1.pkl\n",
      "VZ_part1.pkl\n",
      "Vg_part1.pkl\n",
      "Vg_part2.pkl\n",
      "WJets_part1.pkl\n",
      "WW_part1.pkl\n",
      "ggWW_part1.pkl\n",
      "top_part1.pkl\n",
      "top_part2.pkl\n"
     ]
    }
   ],
   "source": [
    "classes = { \"VBS_ZV\": 0, \"DY\":1, \"top\": 2, \"VBS_VV_QCD\": 3, \"WW\":3, \"VBF-V\":3, \"VVV\":3, \"ggWW\":3, \"Vg\":3, \"VZ\":3, \"WJets\":3}\n",
    "signal = \"VBS_ZV\"\n",
    "sample_names = [\"WJets\", \"VBS_ZV\",\"VBS_VV_QCD\", \"WW\", \"ggWW\", \"Vg\", \"DY\", \"top\", \"VZ\", \"VBF-V\", \"VVV\"]\n",
    "\n",
    "samples = {}\n",
    "\n",
    "for samples_dir in samples_dirs:\n",
    "    for file in os.listdir(samples_dir):\n",
    "        if os.path.isdir(os.path.join(samples_dir, file)): continue\n",
    "        print(file)  \n",
    "        if file ==\"index.php\": continue\n",
    "        sname = file.split(\"_part\")[0]\n",
    "        s = pickle.load(open(os.path.join(samples_dir, file), \"rb\"))\n",
    "        s.rename(columns=lambda c: c.split(cut+\"_\")[1] if cut in c else c, inplace=True)\n",
    "        s[\"sample_name\"]= sname\n",
    "        s[\"class\"] = classes[sname]\n",
    "        if sname == signal:\n",
    "            s[\"signal\"] = 1\n",
    "        else: \n",
    "            s[\"signal\"] = 0\n",
    "        \n",
    "        if \"2016\" in samples_dir:\n",
    "            s[\"year\"] = 2016\n",
    "        if \"2017\" in samples_dir:\n",
    "            s[\"year\"] = 2017\n",
    "        if \"2018\" in samples_dir:\n",
    "            s[\"year\"] = 2018\n",
    "            \n",
    "        if sname in samples:\n",
    "            samples[sname] = pd.concat([samples[sname], s], ignore_index=True)\n",
    "        else:\n",
    "            samples[sname] = s"
   ]
  },
  {
   "cell_type": "code",
   "execution_count": 5,
   "metadata": {
    "ExecuteTime": {
     "end_time": "2020-04-13T14:15:07.592810Z",
     "start_time": "2020-04-13T14:15:07.574145Z"
    },
    "scrolled": true
   },
   "outputs": [],
   "source": [
    "#for s, df in samples.items():\n",
    "#    print(f\"Sample name {s:10}, nsamples: {len(df):10},   XS total: {(df.weight_).sum()*137 :15}\")"
   ]
  },
  {
   "cell_type": "markdown",
   "metadata": {},
   "source": [
    "## Balancing"
   ]
  },
  {
   "cell_type": "code",
   "execution_count": 6,
   "metadata": {
    "ExecuteTime": {
     "end_time": "2020-04-13T14:15:18.211285Z",
     "start_time": "2020-04-13T14:15:18.075794Z"
    }
   },
   "outputs": [],
   "source": [
    "background = pd.concat([\n",
    "                samples[\"top\"],\n",
    "                samples[\"DY\"],\n",
    "                samples[\"WJets\"],\n",
    "                samples[\"VZ\"],\n",
    "                samples[\"VVV\"],\n",
    "                samples[\"VBS_VV_QCD\"],\n",
    "                samples[\"WW\"],\n",
    "                samples[\"ggWW\"],\n",
    "                samples[\"Vg\"],\n",
    "                samples[\"VBF-V\"], \n",
    "                ], ignore_index=True)\n",
    "\n",
    "signal = samples[\"VBS_ZV\"]"
   ]
  },
  {
   "cell_type": "code",
   "execution_count": 7,
   "metadata": {
    "ExecuteTime": {
     "end_time": "2020-04-13T14:15:20.073005Z",
     "start_time": "2020-04-13T14:15:20.065131Z"
    }
   },
   "outputs": [],
   "source": [
    "'''\n",
    "If random sampling will be done for the signal we need to assume that the number of signal \n",
    "events will be the same of the number of background events --> This assumption will go in the background weight. \n",
    "'''\n",
    "random_sampling = False"
   ]
  },
  {
   "cell_type": "markdown",
   "metadata": {},
   "source": [
    "### Normalization by bkg events"
   ]
  },
  {
   "cell_type": "code",
   "execution_count": 8,
   "metadata": {
    "ExecuteTime": {
     "end_time": "2020-04-13T14:15:22.104560Z",
     "start_time": "2020-04-13T14:15:22.045344Z"
    }
   },
   "outputs": [
    {
     "name": "stdout",
     "output_type": "stream",
     "text": [
      "ratio n ev signal - bkg 67.77438025926769\n",
      "TOT bkg weighted events 11920158.000000011\n",
      "Rescale facor for signal 1027603.1990748154\n",
      "Effective sig events:  11920158.00000001\n",
      "Effective bkg events:  11920158.000000011\n"
     ]
    }
   ],
   "source": [
    "ratio_neve_bkgsignal= len(background) / len(signal)\n",
    "print(\"ratio n ev signal - bkg\",ratio_neve_bkgsignal)\n",
    "\n",
    "tot_ev_weighted_bkg = (background.weight_ / background.weight_.mean()).sum()\n",
    "print(\"TOT bkg weighted events\", tot_ev_weighted_bkg)\n",
    "\n",
    "rescale_factor_sig  = (tot_ev_weighted_bkg )/ signal.weight_.sum()\n",
    "print(\"Rescale facor for signal\", rescale_factor_sig)\n",
    "\n",
    "signal[\"weight_norm\"] = signal.weight_ * rescale_factor_sig\n",
    "background[\"weight_norm\"] = background.weight_ / background.weight_.mean()\n",
    "\n",
    "print(\"Effective sig events: \", signal.weight_norm.sum())\n",
    "print(\"Effective bkg events: \", background.weight_norm.sum())"
   ]
  },
  {
   "cell_type": "code",
   "execution_count": 15,
   "metadata": {
    "ExecuteTime": {
     "end_time": "2020-04-12T17:11:43.796752Z",
     "start_time": "2020-04-12T17:11:43.782887Z"
    }
   },
   "outputs": [
    {
     "data": {
      "text/plain": [
       "101678.25715853645"
      ]
     },
     "execution_count": 15,
     "metadata": {},
     "output_type": "execute_result"
    }
   ],
   "source": [
    "background.weight_.sum()\n",
    "#background.weight_.mean()"
   ]
  },
  {
   "cell_type": "code",
   "execution_count": 16,
   "metadata": {
    "ExecuteTime": {
     "end_time": "2020-04-12T17:11:44.974522Z",
     "start_time": "2020-04-12T17:11:44.969040Z"
    }
   },
   "outputs": [
    {
     "data": {
      "text/plain": [
       "11.599961941274723"
      ]
     },
     "execution_count": 16,
     "metadata": {},
     "output_type": "execute_result"
    }
   ],
   "source": [
    "signal.weight_.sum()"
   ]
  },
  {
   "cell_type": "markdown",
   "metadata": {},
   "source": [
    "### Normalization by signal events"
   ]
  },
  {
   "cell_type": "code",
   "execution_count": 14,
   "metadata": {
    "ExecuteTime": {
     "end_time": "2020-04-13T07:54:06.982193Z",
     "start_time": "2020-04-13T07:54:06.905142Z"
    }
   },
   "outputs": [
    {
     "name": "stdout",
     "output_type": "stream",
     "text": [
      "TOT signal weighted events 175879.99999999997\n",
      "1.7297700109647667\n",
      "Effective sig events:  175879.99999999997\n",
      "Effective bkg events:  175879.99999999965\n"
     ]
    }
   ],
   "source": [
    "tot_ev_weighted_sig = (signal.weight_ / signal.weight_.mean()).sum()\n",
    "print(\"TOT signal weighted events\", tot_ev_weighted_sig)\n",
    "\n",
    "if random_sampling:\n",
    "    rescale_factor_bkg = (tot_ev_weighted_sig *ratio_neve_bkgsignal )/ background.weight_.sum()\n",
    "else:\n",
    "    rescale_factor_bkg = (tot_ev_weighted_sig )/ background.weight_.sum()\n",
    "print(rescale_factor_bkg)\n",
    "\n",
    "signal[\"weight_norm\"] = signal.weight_ / signal.weight_.mean()\n",
    "background[\"weight_norm\"] = background.weight_ * rescale_factor_bkg\n",
    "\n",
    "print(\"Effective sig events: \", signal.weight_norm.sum())\n",
    "print(\"Effective bkg events: \", background.weight_norm.sum())"
   ]
  },
  {
   "cell_type": "markdown",
   "metadata": {},
   "source": [
    "## Save signal and bkg samples"
   ]
  },
  {
   "cell_type": "code",
   "execution_count": null,
   "metadata": {
    "ExecuteTime": {
     "end_time": "2020-04-13T14:15:28.730086Z",
     "start_time": "2020-04-13T14:15:26.986135Z"
    }
   },
   "outputs": [],
   "source": [
    "import os\n",
    "\n",
    "os.makedirs(os.path.join(output_dir, \"for_training\"), exist_ok=True)\n",
    "pickle.dump(background, open(os.path.join(output_dir, \"for_training/background_balanced.pkl\"), \"wb\"))\n",
    "pickle.dump(signal, open(os.path.join(output_dir, \"for_training/signal_balanced.pkl\"), \"wb\"))"
   ]
  },
  {
   "cell_type": "code",
   "execution_count": null,
   "metadata": {
    "ExecuteTime": {
     "end_time": "2020-04-13T07:59:01.963471Z",
     "start_time": "2020-04-13T07:59:01.955516Z"
    }
   },
   "outputs": [],
   "source": [
    "signal.columns"
   ]
  },
  {
   "cell_type": "code",
   "execution_count": null,
   "metadata": {
    "ExecuteTime": {
     "end_time": "2020-04-11T13:52:49.754353Z",
     "start_time": "2020-04-11T13:52:48.905550Z"
    }
   },
   "outputs": [],
   "source": [
    "plt.hist(background[\"weight_norm\"], bins=100, range=(0, 10))\n",
    "plt.yscale(\"log\")"
   ]
  },
  {
   "cell_type": "code",
   "execution_count": null,
   "metadata": {
    "ExecuteTime": {
     "end_time": "2020-04-11T13:52:52.629086Z",
     "start_time": "2020-04-11T13:52:51.929835Z"
    }
   },
   "outputs": [],
   "source": [
    "plt.hist(signal[\"weight_norm\"], bins=100, range=(0, 10))\n",
    "plt.yscale(\"log\")"
   ]
  },
  {
   "cell_type": "markdown",
   "metadata": {},
   "source": [
    "The total number of events will be manually balanced"
   ]
  },
  {
   "cell_type": "code",
   "execution_count": null,
   "metadata": {
    "ExecuteTime": {
     "end_time": "2020-04-11T13:52:56.961994Z",
     "start_time": "2020-04-11T13:52:54.820857Z"
    }
   },
   "outputs": [],
   "source": [
    "f = plt.figure(figsize=(19, 15))\n",
    "plt.matshow(df.corr(), fignum=f.number)\n",
    "plt.xticks(range(df.shape[1]), df.columns, fontsize=12, rotation=45)\n",
    "plt.yticks(range(df.shape[1]), df.columns, fontsize=12)\n",
    "cb = plt.colorbar()\n",
    "cb.ax.tick_params(labelsize=14)\n",
    "plt.title('Correlation Matrix', fontsize=16);"
   ]
  },
  {
   "cell_type": "code",
   "execution_count": null,
   "metadata": {},
   "outputs": [],
   "source": []
  },
  {
   "cell_type": "code",
   "execution_count": null,
   "metadata": {},
   "outputs": [],
   "source": []
  }
 ],
 "metadata": {
  "kernelspec": {
   "display_name": "Python 3",
   "language": "python",
   "name": "python3"
  },
  "language_info": {
   "codemirror_mode": {
    "name": "ipython",
    "version": 3
   },
   "file_extension": ".py",
   "mimetype": "text/x-python",
   "name": "python",
   "nbconvert_exporter": "python",
   "pygments_lexer": "ipython3",
   "version": "3.7.6"
  },
  "toc": {
   "base_numbering": 1,
   "nav_menu": {},
   "number_sections": true,
   "sideBar": true,
   "skip_h1_title": false,
   "title_cell": "Table of Contents",
   "title_sidebar": "Contents",
   "toc_cell": false,
   "toc_position": {},
   "toc_section_display": true,
   "toc_window_display": false
  },
  "varInspector": {
   "cols": {
    "lenName": 16,
    "lenType": 16,
    "lenVar": 40
   },
   "kernels_config": {
    "python": {
     "delete_cmd_postfix": "",
     "delete_cmd_prefix": "del ",
     "library": "var_list.py",
     "varRefreshCmd": "print(var_dic_list())"
    },
    "r": {
     "delete_cmd_postfix": ") ",
     "delete_cmd_prefix": "rm(",
     "library": "var_list.r",
     "varRefreshCmd": "cat(var_dic_list()) "
    }
   },
   "types_to_exclude": [
    "module",
    "function",
    "builtin_function_or_method",
    "instance",
    "_Feature"
   ],
   "window_display": false
  }
 },
 "nbformat": 4,
 "nbformat_minor": 2
}
