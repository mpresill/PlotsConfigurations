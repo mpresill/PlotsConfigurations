{
 "cells": [
  {
   "cell_type": "code",
   "execution_count": 2,
   "metadata": {
    "ExecuteTime": {
     "end_time": "2020-04-08T14:27:27.494852Z",
     "start_time": "2020-04-08T14:27:26.373459Z"
    }
   },
   "outputs": [],
   "source": [
    "import pandas as pd\n",
    "import numpy as np\n",
    "import matplotlib as mpl\n",
    "import matplotlib.pyplot as plt\n",
    "\n",
    "mpl.rcParams['figure.figsize'] = (6,6)\n",
    "mpl.rcParams['figure.dpi'] = 100\n",
    "mpl.rcParams[\"image.origin\"] = 'lower'"
   ]
  },
  {
   "cell_type": "code",
   "execution_count": 3,
   "metadata": {
    "ExecuteTime": {
     "end_time": "2020-04-08T14:42:59.658896Z",
     "start_time": "2020-04-08T14:42:59.649363Z"
    }
   },
   "outputs": [],
   "source": [
    "config = {\n",
    "    \"base_dir\":        \"/eos/user/m/mpresill/www/VBS/Numpy/\",\n",
    "    \"plot_config\":     \"FullRun2\",\n",
    "    \"cut\":             \"Resolved_SR\",\n",
    "    \"model_version\":   \"test1\",\n",
    "    #\"model_tag\":       \"boost_5vars_v0\",\n",
    "    \"samples_version\": \"v1\",\n",
    "    \"cols\": ['pt1', 'pt2', 'eta1', 'eta2', 'mll',  'Zlep_1', 'Zlep_2',\n",
    "        'vbs_jet_pt1', 'vbs_jet_pt2', 'vbs_jet_eta1',\n",
    "       'vbs_jet_eta2', 'V_jet_pt1', 'V_jet_pt2', 'V_jet_eta1', 'V_jet_eta2',\n",
    "       'mjj_max', 'detajj_mjjmax', 'V_jet_mass', 'class',  'weight_norm'\n",
    "             ]\n",
    "# A_ww\n",
    "}"
   ]
  },
  {
   "cell_type": "code",
   "execution_count": 4,
   "metadata": {
    "ExecuteTime": {
     "end_time": "2020-04-08T14:27:57.063402Z",
     "start_time": "2020-04-08T14:27:57.051109Z"
    }
   },
   "outputs": [
    {
     "data": {
      "text/plain": [
       "20"
      ]
     },
     "execution_count": 4,
     "metadata": {},
     "output_type": "execute_result"
    }
   ],
   "source": [
    "len(config[\"cols\"])"
   ]
  },
  {
   "cell_type": "markdown",
   "metadata": {},
   "source": [
    "```.python\n",
    "# config examples\n",
    "\"cut\":             \"boos_sig_mjjincl\",\n",
    "\"cut\":             \"res_sig_mjjincl\",\n",
    "\"model_tag\":       \"res_4depth_v0\",\n",
    " ```"
   ]
  },
  {
   "cell_type": "code",
   "execution_count": 5,
   "metadata": {
    "ExecuteTime": {
     "end_time": "2020-04-08T19:36:24.398725Z",
     "start_time": "2020-04-08T19:36:23.579609Z"
    }
   },
   "outputs": [],
   "source": [
    "import os\n",
    "\n",
    "config_base_dir = os.path.join(config[\"base_dir\"], config[\"plot_config\"])\n",
    "\n",
    "# create the model directory\n",
    "model_dir   = os.path.join(config_base_dir, config[\"cut\"] , \"models\",  config[\"model_version\"])\n",
    "os.makedirs(model_dir, exist_ok=True)\n",
    "\n",
    "# load numpy\n",
    "samples_dir = os.path.join(config_base_dir, config[\"cut\"] , \"samples\", config[\"samples_version\"])\n",
    "import pickle\n",
    "signal = pickle.load(open(os.path.join(samples_dir, \"for_training/signal_balanced.pkl\"),     \"rb\"))\n",
    "bkg    = pickle.load(open(os.path.join(samples_dir, \"for_training/background_balanced.pkl\"), \"rb\"))"
   ]
  },
  {
   "cell_type": "markdown",
   "metadata": {},
   "source": [
    "## Samples preparation for NN"
   ]
  },
  {
   "cell_type": "code",
   "execution_count": 6,
   "metadata": {},
   "outputs": [],
   "source": [
    " #using \n",
    "#source /cvmfs/sft.cern.ch/lcg/views/LCG_96python3/x86_64-centos7-gcc8-opt/setup.sh\n",
    "#!pip3 install --user imbalanced-learn==0.5   ##once installed is not necessary anymore!!!"
   ]
  },
  {
   "cell_type": "code",
   "execution_count": 7,
   "metadata": {
    "ExecuteTime": {
     "end_time": "2020-04-08T14:27:37.398290Z",
     "start_time": "2020-04-08T14:27:28.700465Z"
    }
   },
   "outputs": [
    {
     "name": "stderr",
     "output_type": "stream",
     "text": [
      "Using TensorFlow backend.\n"
     ]
    }
   ],
   "source": [
    "from sklearn.preprocessing import StandardScaler\n",
    "from sklearn.model_selection import train_test_split\n",
    "from sklearn.preprocessing import OneHotEncoder\n",
    "\n",
    "from imblearn.keras import balanced_batch_generator\n",
    "from imblearn.over_sampling import RandomOverSampler"
   ]
  },
  {
   "cell_type": "code",
   "execution_count": 8,
   "metadata": {
    "ExecuteTime": {
     "end_time": "2020-01-27T10:17:31.734886Z",
     "start_time": "2020-01-27T10:17:31.723341Z"
    }
   },
   "outputs": [],
   "source": [
    "## instead of reading the variables from file,\n",
    "## we now set the variables here, and then dump them\n",
    "# import yaml\n",
    "# yaml_vars = yaml.safe_load(open(os.path.join(model_dir, \"variables.yml\")))\n",
    "# print(\"yaml: \", type(yaml_vars), len(yaml_vars))\n",
    "# cols = yaml_vars"
   ]
  },
  {
   "cell_type": "code",
   "execution_count": 9,
   "metadata": {
    "ExecuteTime": {
     "end_time": "2020-04-08T14:28:01.985259Z",
     "start_time": "2020-04-08T14:28:01.836947Z"
    },
    "scrolled": true
   },
   "outputs": [],
   "source": [
    "X_sig = signal[config[\"cols\"]].values\n",
    "X_bkg = bkg[config[\"cols\"]].values"
   ]
  },
  {
   "cell_type": "code",
   "execution_count": 10,
   "metadata": {
    "ExecuteTime": {
     "end_time": "2020-04-08T14:28:03.378628Z",
     "start_time": "2020-04-08T14:28:03.071908Z"
    }
   },
   "outputs": [
    {
     "data": {
      "text/plain": [
       "<matplotlib.axes._subplots.AxesSubplot at 0x7fc1428eff90>"
      ]
     },
     "execution_count": 10,
     "metadata": {},
     "output_type": "execute_result"
    },
    {
     "data": {
      "image/png": "[encoded data removed]",
      "text/plain": [
       "<Figure size 432x288 with 1 Axes>"
      ]
     },
     "metadata": {
      "needs_background": "light"
     },
     "output_type": "display_data"
    }
   ],
   "source": [
    "classes = { \"VBS_ZV\": 0, \"DY\":1, \"top\": 2, \"VBS_VV_QCD\": 3, \"WW\":3, \"VBF-V\":3, \"VVV\":3, \"ggWW\":3, \"Vg\":3, \"VZ\":3, \"WJets\":3}\n",
    "bkg[\"class\"].hist()\n",
    "signal[\"class\"].hist()"
   ]
  },
  {
   "cell_type": "code",
   "execution_count": 11,
   "metadata": {},
   "outputs": [
    {
     "data": {
      "text/plain": [
       "<matplotlib.axes._subplots.AxesSubplot at 0x7fc1c21b4ed0>"
      ]
     },
     "execution_count": 11,
     "metadata": {},
     "output_type": "execute_result"
    },
    {
     "data": {
      "image/png": "[encoded data removed]",
      "text/plain": [
       "<Figure size 432x288 with 1 Axes>"
      ]
     },
     "metadata": {
      "needs_background": "light"
     },
     "output_type": "display_data"
    }
   ],
   "source": [
    "bkg[\"weight_norm\"].hist()\n",
    "signal[\"weight_norm\"].hist()"
   ]
  },
  {
   "cell_type": "code",
   "execution_count": 12,
   "metadata": {
    "ExecuteTime": {
     "end_time": "2020-04-08T14:28:04.410824Z",
     "start_time": "2020-04-08T14:28:04.392224Z"
    }
   },
   "outputs": [
    {
     "data": {
      "text/plain": [
       "OneHotEncoder(categorical_features=None, categories='auto', drop=None,\n",
       "              dtype=<class 'numpy.float64'>, handle_unknown='error',\n",
       "              n_values=None, sparse=False)"
      ]
     },
     "execution_count": 12,
     "metadata": {},
     "output_type": "execute_result"
    }
   ],
   "source": [
    "enc = OneHotEncoder(categories=\"auto\", sparse=False)\n",
    "\n",
    "enc.fit(bkg[\"class\"].values.reshape(-1,1))"
   ]
  },
  {
   "cell_type": "code",
   "execution_count": 13,
   "metadata": {
    "ExecuteTime": {
     "end_time": "2020-04-08T14:28:49.817686Z",
     "start_time": "2020-04-08T14:28:49.797212Z"
    }
   },
   "outputs": [
    {
     "data": {
      "text/plain": [
       "array([2, 1, 3])"
      ]
     },
     "execution_count": 13,
     "metadata": {},
     "output_type": "execute_result"
    }
   ],
   "source": [
    "bkg[\"class\"].unique()"
   ]
  },
  {
   "cell_type": "code",
   "execution_count": 14,
   "metadata": {
    "ExecuteTime": {
     "end_time": "2020-04-08T14:28:52.099084Z",
     "start_time": "2020-04-08T14:28:51.958258Z"
    }
   },
   "outputs": [],
   "source": [
    "Y_bkg = enc.transform(bkg[\"class\"].values.reshape(-1,1))\n",
    "Y_bkg = np.hstack([np.zeros(shape=(Y_bkg.shape[0], 1)), Y_bkg])\n",
    "Y_sig = np.zeros(shape=(X_sig.shape[0], 4))\n",
    "Y_sig[:,0] =1\n",
    "\n",
    "W_sig = (signal[\"weight_norm\"]).values\n",
    "W_bkg = (bkg[\"weight_norm\"]).values\n",
    "Wnn_sig = (signal[\"weight_\"]).values\n",
    "Wnn_bkg = (bkg[\"weight_\"]).values"
   ]
  },
  {
   "cell_type": "code",
   "execution_count": 15,
   "metadata": {
    "ExecuteTime": {
     "end_time": "2020-04-08T14:28:58.447559Z",
     "start_time": "2020-04-08T14:28:58.436973Z"
    }
   },
   "outputs": [
    {
     "data": {
      "text/plain": [
       "array([[0., 0., 1.]])"
      ]
     },
     "execution_count": 15,
     "metadata": {},
     "output_type": "execute_result"
    }
   ],
   "source": [
    "enc.transform([[3]]) #uncommented"
   ]
  },
  {
   "cell_type": "code",
   "execution_count": 16,
   "metadata": {
    "ExecuteTime": {
     "end_time": "2020-04-08T14:29:00.516019Z",
     "start_time": "2020-04-08T14:29:00.507190Z"
    }
   },
   "outputs": [
    {
     "data": {
      "text/plain": [
       "(175880, 4)"
      ]
     },
     "execution_count": 16,
     "metadata": {},
     "output_type": "execute_result"
    }
   ],
   "source": [
    "Y_sig.shape  #uncommented"
   ]
  },
  {
   "cell_type": "code",
   "execution_count": 17,
   "metadata": {
    "ExecuteTime": {
     "end_time": "2020-04-08T14:29:01.806127Z",
     "start_time": "2020-04-08T14:29:01.801567Z"
    }
   },
   "outputs": [
    {
     "data": {
      "text/plain": [
       "(11920158, 4)"
      ]
     },
     "execution_count": 17,
     "metadata": {},
     "output_type": "execute_result"
    }
   ],
   "source": [
    "Y_bkg.shape #uncommented"
   ]
  },
  {
   "cell_type": "code",
   "execution_count": 18,
   "metadata": {
    "ExecuteTime": {
     "end_time": "2020-04-08T14:29:02.964231Z",
     "start_time": "2020-04-08T14:29:02.909731Z"
    }
   },
   "outputs": [],
   "source": [
    "X = np.vstack([X_sig, X_bkg])\n",
    "Y = np.vstack([Y_sig, Y_bkg])\n",
    "W = np.hstack([W_sig, W_bkg])\n",
    "Wnn = np.hstack([Wnn_sig, Wnn_bkg])"
   ]
  },
  {
   "cell_type": "code",
   "execution_count": 19,
   "metadata": {
    "ExecuteTime": {
     "end_time": "2020-04-08T14:29:05.316676Z",
     "start_time": "2020-04-08T14:29:04.909840Z"
    },
    "scrolled": false
   },
   "outputs": [
    {
     "name": "stderr",
     "output_type": "stream",
     "text": [
      "/cvmfs/sft.cern.ch/lcg/views/LCG_97apython3/x86_64-centos7-gcc8-opt/lib/python3.7/site-packages/numpy/core/fromnumeric.py:86: RuntimeWarning: invalid value encountered in reduce\n",
      "  return ufunc.reduce(obj, axis, dtype, out, **passkwargs)\n"
     ]
    },
    {
     "ename": "ValueError",
     "evalue": "Input contains infinity or a value too large for dtype('float64').",
     "output_type": "error",
     "traceback": [
      "\u001b[0;31m---------------------------------------------------------------------------\u001b[0m",
      "\u001b[0;31mValueError\u001b[0m                                Traceback (most recent call last)",
      "\u001b[0;32m<ipython-input-19-3feeffe4b3f0>\u001b[0m in \u001b[0;36m<module>\u001b[0;34m\u001b[0m\n\u001b[1;32m      1\u001b[0m \u001b[0mscaler\u001b[0m \u001b[0;34m=\u001b[0m \u001b[0mStandardScaler\u001b[0m\u001b[0;34m(\u001b[0m\u001b[0;34m)\u001b[0m\u001b[0;34m\u001b[0m\u001b[0;34m\u001b[0m\u001b[0m\n\u001b[0;32m----> 2\u001b[0;31m \u001b[0mX_scaled\u001b[0m \u001b[0;34m=\u001b[0m \u001b[0mscaler\u001b[0m\u001b[0;34m.\u001b[0m\u001b[0mfit_transform\u001b[0m\u001b[0;34m(\u001b[0m\u001b[0mX\u001b[0m\u001b[0;34m)\u001b[0m\u001b[0;34m\u001b[0m\u001b[0;34m\u001b[0m\u001b[0m\n\u001b[0m\u001b[1;32m      3\u001b[0m \u001b[0mpickle\u001b[0m\u001b[0;34m.\u001b[0m\u001b[0mdump\u001b[0m\u001b[0;34m(\u001b[0m\u001b[0mscaler\u001b[0m\u001b[0;34m,\u001b[0m \u001b[0mopen\u001b[0m\u001b[0;34m(\u001b[0m\u001b[0;34mf\"{model_dir}/scaler_model.pkl\"\u001b[0m\u001b[0;34m,\u001b[0m \u001b[0;34m\"wb\"\u001b[0m\u001b[0;34m)\u001b[0m\u001b[0;34m)\u001b[0m\u001b[0;34m\u001b[0m\u001b[0;34m\u001b[0m\u001b[0m\n",
      "\u001b[0;32m/cvmfs/sft.cern.ch/lcg/views/LCG_97apython3/x86_64-centos7-gcc8-opt/lib/python3.7/site-packages/sklearn/base.py\u001b[0m in \u001b[0;36mfit_transform\u001b[0;34m(self, X, y, **fit_params)\u001b[0m\n\u001b[1;32m    551\u001b[0m         \u001b[0;32mif\u001b[0m \u001b[0my\u001b[0m \u001b[0;32mis\u001b[0m \u001b[0;32mNone\u001b[0m\u001b[0;34m:\u001b[0m\u001b[0;34m\u001b[0m\u001b[0;34m\u001b[0m\u001b[0m\n\u001b[1;32m    552\u001b[0m             \u001b[0;31m# fit method of arity 1 (unsupervised transformation)\u001b[0m\u001b[0;34m\u001b[0m\u001b[0;34m\u001b[0m\u001b[0;34m\u001b[0m\u001b[0m\n\u001b[0;32m--> 553\u001b[0;31m             \u001b[0;32mreturn\u001b[0m \u001b[0mself\u001b[0m\u001b[0;34m.\u001b[0m\u001b[0mfit\u001b[0m\u001b[0;34m(\u001b[0m\u001b[0mX\u001b[0m\u001b[0;34m,\u001b[0m \u001b[0;34m**\u001b[0m\u001b[0mfit_params\u001b[0m\u001b[0;34m)\u001b[0m\u001b[0;34m.\u001b[0m\u001b[0mtransform\u001b[0m\u001b[0;34m(\u001b[0m\u001b[0mX\u001b[0m\u001b[0;34m)\u001b[0m\u001b[0;34m\u001b[0m\u001b[0;34m\u001b[0m\u001b[0m\n\u001b[0m\u001b[1;32m    554\u001b[0m         \u001b[0;32melse\u001b[0m\u001b[0;34m:\u001b[0m\u001b[0;34m\u001b[0m\u001b[0;34m\u001b[0m\u001b[0m\n\u001b[1;32m    555\u001b[0m             \u001b[0;31m# fit method of arity 2 (supervised transformation)\u001b[0m\u001b[0;34m\u001b[0m\u001b[0;34m\u001b[0m\u001b[0;34m\u001b[0m\u001b[0m\n",
      "\u001b[0;32m/cvmfs/sft.cern.ch/lcg/views/LCG_97apython3/x86_64-centos7-gcc8-opt/lib/python3.7/site-packages/sklearn/preprocessing/data.py\u001b[0m in \u001b[0;36mfit\u001b[0;34m(self, X, y)\u001b[0m\n\u001b[1;32m    637\u001b[0m         \u001b[0;31m# Reset internal state before fitting\u001b[0m\u001b[0;34m\u001b[0m\u001b[0;34m\u001b[0m\u001b[0;34m\u001b[0m\u001b[0m\n\u001b[1;32m    638\u001b[0m         \u001b[0mself\u001b[0m\u001b[0;34m.\u001b[0m\u001b[0m_reset\u001b[0m\u001b[0;34m(\u001b[0m\u001b[0;34m)\u001b[0m\u001b[0;34m\u001b[0m\u001b[0;34m\u001b[0m\u001b[0m\n\u001b[0;32m--> 639\u001b[0;31m         \u001b[0;32mreturn\u001b[0m \u001b[0mself\u001b[0m\u001b[0;34m.\u001b[0m\u001b[0mpartial_fit\u001b[0m\u001b[0;34m(\u001b[0m\u001b[0mX\u001b[0m\u001b[0;34m,\u001b[0m \u001b[0my\u001b[0m\u001b[0;34m)\u001b[0m\u001b[0;34m\u001b[0m\u001b[0;34m\u001b[0m\u001b[0m\n\u001b[0m\u001b[1;32m    640\u001b[0m \u001b[0;34m\u001b[0m\u001b[0m\n\u001b[1;32m    641\u001b[0m     \u001b[0;32mdef\u001b[0m \u001b[0mpartial_fit\u001b[0m\u001b[0;34m(\u001b[0m\u001b[0mself\u001b[0m\u001b[0;34m,\u001b[0m \u001b[0mX\u001b[0m\u001b[0;34m,\u001b[0m \u001b[0my\u001b[0m\u001b[0;34m=\u001b[0m\u001b[0;32mNone\u001b[0m\u001b[0;34m)\u001b[0m\u001b[0;34m:\u001b[0m\u001b[0;34m\u001b[0m\u001b[0;34m\u001b[0m\u001b[0m\n",
      "\u001b[0;32m/cvmfs/sft.cern.ch/lcg/views/LCG_97apython3/x86_64-centos7-gcc8-opt/lib/python3.7/site-packages/sklearn/preprocessing/data.py\u001b[0m in \u001b[0;36mpartial_fit\u001b[0;34m(self, X, y)\u001b[0m\n\u001b[1;32m    661\u001b[0m         X = check_array(X, accept_sparse=('csr', 'csc'), copy=self.copy,\n\u001b[1;32m    662\u001b[0m                         \u001b[0mestimator\u001b[0m\u001b[0;34m=\u001b[0m\u001b[0mself\u001b[0m\u001b[0;34m,\u001b[0m \u001b[0mdtype\u001b[0m\u001b[0;34m=\u001b[0m\u001b[0mFLOAT_DTYPES\u001b[0m\u001b[0;34m,\u001b[0m\u001b[0;34m\u001b[0m\u001b[0;34m\u001b[0m\u001b[0m\n\u001b[0;32m--> 663\u001b[0;31m                         force_all_finite='allow-nan')\n\u001b[0m\u001b[1;32m    664\u001b[0m \u001b[0;34m\u001b[0m\u001b[0m\n\u001b[1;32m    665\u001b[0m         \u001b[0;31m# Even in the case of `with_mean=False`, we update the mean anyway\u001b[0m\u001b[0;34m\u001b[0m\u001b[0;34m\u001b[0m\u001b[0;34m\u001b[0m\u001b[0m\n",
      "\u001b[0;32m/cvmfs/sft.cern.ch/lcg/views/LCG_97apython3/x86_64-centos7-gcc8-opt/lib/python3.7/site-packages/sklearn/utils/validation.py\u001b[0m in \u001b[0;36mcheck_array\u001b[0;34m(array, accept_sparse, accept_large_sparse, dtype, order, copy, force_all_finite, ensure_2d, allow_nd, ensure_min_samples, ensure_min_features, warn_on_dtype, estimator)\u001b[0m\n\u001b[1;32m    540\u001b[0m         \u001b[0;32mif\u001b[0m \u001b[0mforce_all_finite\u001b[0m\u001b[0;34m:\u001b[0m\u001b[0;34m\u001b[0m\u001b[0;34m\u001b[0m\u001b[0m\n\u001b[1;32m    541\u001b[0m             _assert_all_finite(array,\n\u001b[0;32m--> 542\u001b[0;31m                                allow_nan=force_all_finite == 'allow-nan')\n\u001b[0m\u001b[1;32m    543\u001b[0m \u001b[0;34m\u001b[0m\u001b[0m\n\u001b[1;32m    544\u001b[0m     \u001b[0;32mif\u001b[0m \u001b[0mensure_min_samples\u001b[0m \u001b[0;34m>\u001b[0m \u001b[0;36m0\u001b[0m\u001b[0;34m:\u001b[0m\u001b[0;34m\u001b[0m\u001b[0;34m\u001b[0m\u001b[0m\n",
      "\u001b[0;32m/cvmfs/sft.cern.ch/lcg/views/LCG_97apython3/x86_64-centos7-gcc8-opt/lib/python3.7/site-packages/sklearn/utils/validation.py\u001b[0m in \u001b[0;36m_assert_all_finite\u001b[0;34m(X, allow_nan)\u001b[0m\n\u001b[1;32m     54\u001b[0m                 not allow_nan and not np.isfinite(X).all()):\n\u001b[1;32m     55\u001b[0m             \u001b[0mtype_err\u001b[0m \u001b[0;34m=\u001b[0m \u001b[0;34m'infinity'\u001b[0m \u001b[0;32mif\u001b[0m \u001b[0mallow_nan\u001b[0m \u001b[0;32melse\u001b[0m \u001b[0;34m'NaN, infinity'\u001b[0m\u001b[0;34m\u001b[0m\u001b[0;34m\u001b[0m\u001b[0m\n\u001b[0;32m---> 56\u001b[0;31m             \u001b[0;32mraise\u001b[0m \u001b[0mValueError\u001b[0m\u001b[0;34m(\u001b[0m\u001b[0mmsg_err\u001b[0m\u001b[0;34m.\u001b[0m\u001b[0mformat\u001b[0m\u001b[0;34m(\u001b[0m\u001b[0mtype_err\u001b[0m\u001b[0;34m,\u001b[0m \u001b[0mX\u001b[0m\u001b[0;34m.\u001b[0m\u001b[0mdtype\u001b[0m\u001b[0;34m)\u001b[0m\u001b[0;34m)\u001b[0m\u001b[0;34m\u001b[0m\u001b[0;34m\u001b[0m\u001b[0m\n\u001b[0m\u001b[1;32m     57\u001b[0m     \u001b[0;31m# for object dtype data, we only check for NaNs (GH-13254)\u001b[0m\u001b[0;34m\u001b[0m\u001b[0;34m\u001b[0m\u001b[0;34m\u001b[0m\u001b[0m\n\u001b[1;32m     58\u001b[0m     \u001b[0;32melif\u001b[0m \u001b[0mX\u001b[0m\u001b[0;34m.\u001b[0m\u001b[0mdtype\u001b[0m \u001b[0;34m==\u001b[0m \u001b[0mnp\u001b[0m\u001b[0;34m.\u001b[0m\u001b[0mdtype\u001b[0m\u001b[0;34m(\u001b[0m\u001b[0;34m'object'\u001b[0m\u001b[0;34m)\u001b[0m \u001b[0;32mand\u001b[0m \u001b[0;32mnot\u001b[0m \u001b[0mallow_nan\u001b[0m\u001b[0;34m:\u001b[0m\u001b[0;34m\u001b[0m\u001b[0;34m\u001b[0m\u001b[0m\n",
      "\u001b[0;31mValueError\u001b[0m: Input contains infinity or a value too large for dtype('float64')."
     ]
    }
   ],
   "source": [
    "scaler = StandardScaler()\n",
    "X_scaled = scaler.fit_transform(X)\n",
    "pickle.dump(scaler, open(f\"{model_dir}/scaler_model.pkl\", \"wb\"))"
   ]
  },
  {
   "cell_type": "code",
   "execution_count": 20,
   "metadata": {},
   "outputs": [
    {
     "data": {
      "image/png": "[encoded data removed]",
      "text/plain": [
       "<Figure size 432x288 with 1 Axes>"
      ]
     },
     "metadata": {
      "needs_background": "light"
     },
     "output_type": "display_data"
    },
    {
     "ename": "NameError",
     "evalue": "name 'X_scaled' is not defined",
     "output_type": "error",
     "traceback": [
      "\u001b[0;31m---------------------------------------------------------------------------\u001b[0m",
      "\u001b[0;31mNameError\u001b[0m                                 Traceback (most recent call last)",
      "\u001b[0;32m<ipython-input-20-daf566d7577d>\u001b[0m in \u001b[0;36m<module>\u001b[0;34m\u001b[0m\n\u001b[1;32m      4\u001b[0m \u001b[0mplt\u001b[0m\u001b[0;34m.\u001b[0m\u001b[0mshow\u001b[0m\u001b[0;34m(\u001b[0m\u001b[0;34m)\u001b[0m\u001b[0;34m\u001b[0m\u001b[0;34m\u001b[0m\u001b[0m\n\u001b[1;32m      5\u001b[0m \u001b[0;32mfor\u001b[0m \u001b[0midx\u001b[0m\u001b[0;34m,\u001b[0m\u001b[0mcol\u001b[0m \u001b[0;32min\u001b[0m \u001b[0menumerate\u001b[0m\u001b[0;34m(\u001b[0m\u001b[0mconfig\u001b[0m\u001b[0;34m[\u001b[0m\u001b[0;34m\"cols\"\u001b[0m\u001b[0;34m]\u001b[0m\u001b[0;34m)\u001b[0m\u001b[0;34m:\u001b[0m\u001b[0;34m\u001b[0m\u001b[0;34m\u001b[0m\u001b[0m\n\u001b[0;32m----> 6\u001b[0;31m     \u001b[0m_\u001b[0m \u001b[0;34m=\u001b[0m \u001b[0mplt\u001b[0m\u001b[0;34m.\u001b[0m\u001b[0mhist\u001b[0m\u001b[0;34m(\u001b[0m\u001b[0mX_scaled\u001b[0m\u001b[0;34m[\u001b[0m\u001b[0;34m:\u001b[0m\u001b[0;34m,\u001b[0m\u001b[0midx\u001b[0m\u001b[0;34m]\u001b[0m\u001b[0;34m,\u001b[0m \u001b[0mbins\u001b[0m\u001b[0;34m=\u001b[0m\u001b[0;36m100\u001b[0m\u001b[0;34m)\u001b[0m\u001b[0;34m\u001b[0m\u001b[0;34m\u001b[0m\u001b[0m\n\u001b[0m\u001b[1;32m      7\u001b[0m     \u001b[0mplt\u001b[0m\u001b[0;34m.\u001b[0m\u001b[0mtitle\u001b[0m\u001b[0;34m(\u001b[0m\u001b[0mcol\u001b[0m\u001b[0;34m)\u001b[0m\u001b[0;34m\u001b[0m\u001b[0;34m\u001b[0m\u001b[0m\n\u001b[1;32m      8\u001b[0m     \u001b[0mplt\u001b[0m\u001b[0;34m.\u001b[0m\u001b[0mshow\u001b[0m\u001b[0;34m(\u001b[0m\u001b[0;34m)\u001b[0m\u001b[0;34m\u001b[0m\u001b[0;34m\u001b[0m\u001b[0m\n",
      "\u001b[0;31mNameError\u001b[0m: name 'X_scaled' is not defined"
     ]
    }
   ],
   "source": [
    "## draw weights and input variables in order to spot any importing error\n",
    "_ = plt.hist(W, bins=100, range=(0,2))\n",
    "plt.title(\"weights\")\n",
    "plt.show()\n",
    "for idx,col in enumerate(config[\"cols\"]):\n",
    "    _ = plt.hist(X_scaled[:,idx], bins=100)\n",
    "    plt.title(col)\n",
    "    plt.show()"
   ]
  },
  {
   "cell_type": "code",
   "execution_count": 21,
   "metadata": {
    "ExecuteTime": {
     "end_time": "2020-01-27T08:46:36.955475Z",
     "start_time": "2020-01-27T08:46:34.860619Z"
    },
    "scrolled": false
   },
   "outputs": [
    {
     "ename": "NameError",
     "evalue": "name 'cols' is not defined",
     "output_type": "error",
     "traceback": [
      "\u001b[0;31m---------------------------------------------------------------------------\u001b[0m",
      "\u001b[0;31mNameError\u001b[0m                                 Traceback (most recent call last)",
      "\u001b[0;32m<ipython-input-21-e4b67de92212>\u001b[0m in \u001b[0;36m<module>\u001b[0;34m\u001b[0m\n\u001b[1;32m      1\u001b[0m \u001b[0mi\u001b[0m \u001b[0;34m=\u001b[0m \u001b[0;36m2\u001b[0m\u001b[0;34m\u001b[0m\u001b[0;34m\u001b[0m\u001b[0m\n\u001b[0;32m----> 2\u001b[0;31m \u001b[0mprint\u001b[0m\u001b[0;34m(\u001b[0m\u001b[0mcols\u001b[0m\u001b[0;34m[\u001b[0m\u001b[0mi\u001b[0m\u001b[0;34m]\u001b[0m\u001b[0;34m)\u001b[0m\u001b[0;34m\u001b[0m\u001b[0;34m\u001b[0m\u001b[0m\n\u001b[0m\u001b[1;32m      3\u001b[0m \u001b[0mfig\u001b[0m\u001b[0;34m,\u001b[0m \u001b[0;34m(\u001b[0m\u001b[0max1\u001b[0m\u001b[0;34m,\u001b[0m \u001b[0max2\u001b[0m\u001b[0;34m)\u001b[0m \u001b[0;34m=\u001b[0m \u001b[0mplt\u001b[0m\u001b[0;34m.\u001b[0m\u001b[0msubplots\u001b[0m\u001b[0;34m(\u001b[0m\u001b[0mncols\u001b[0m\u001b[0;34m=\u001b[0m\u001b[0;36m2\u001b[0m\u001b[0;34m,\u001b[0m \u001b[0mfigsize\u001b[0m\u001b[0;34m=\u001b[0m\u001b[0;34m(\u001b[0m\u001b[0;36m10\u001b[0m\u001b[0;34m,\u001b[0m\u001b[0;36m5\u001b[0m\u001b[0;34m)\u001b[0m\u001b[0;34m,\u001b[0m \u001b[0mdpi\u001b[0m\u001b[0;34m=\u001b[0m\u001b[0;36m100\u001b[0m\u001b[0;34m)\u001b[0m\u001b[0;34m\u001b[0m\u001b[0;34m\u001b[0m\u001b[0m\n\u001b[1;32m      4\u001b[0m \u001b[0max1\u001b[0m\u001b[0;34m.\u001b[0m\u001b[0mhist\u001b[0m\u001b[0;34m(\u001b[0m\u001b[0mX\u001b[0m\u001b[0;34m[\u001b[0m\u001b[0;34m:\u001b[0m\u001b[0;34m,\u001b[0m\u001b[0mi\u001b[0m\u001b[0;34m]\u001b[0m\u001b[0;34m,\u001b[0m \u001b[0mbins\u001b[0m\u001b[0;34m=\u001b[0m\u001b[0;36m50\u001b[0m\u001b[0;34m)\u001b[0m\u001b[0;34m\u001b[0m\u001b[0;34m\u001b[0m\u001b[0m\n\u001b[1;32m      5\u001b[0m \u001b[0max1\u001b[0m\u001b[0;34m.\u001b[0m\u001b[0mset_yscale\u001b[0m\u001b[0;34m(\u001b[0m\u001b[0;34m\"log\"\u001b[0m\u001b[0;34m)\u001b[0m\u001b[0;34m\u001b[0m\u001b[0;34m\u001b[0m\u001b[0m\n",
      "\u001b[0;31mNameError\u001b[0m: name 'cols' is not defined"
     ]
    }
   ],
   "source": [
    " #i = 2\n",
    " #print(cols[i])\n",
    " #fig, (ax1, ax2) = plt.subplots(ncols=2, figsize=(10,5), dpi=100)\n",
    " #ax1.hist(X[:,i], bins=50)\n",
    " #ax1.set_yscale(\"log\")\n",
    " #ax2.hist(X_scaled[:,i], weights=W, bins=50)\n",
    " #plt.yscale(\"log\")"
   ]
  },
  {
   "cell_type": "code",
   "execution_count": null,
   "metadata": {
    "ExecuteTime": {
     "end_time": "2020-01-27T10:17:47.639149Z",
     "start_time": "2020-01-27T10:17:47.039479Z"
    }
   },
   "outputs": [],
   "source": [
    "# _ = plt.hist(W, bins=100)\n",
    "#_ = plt.hist(W, bins=100, range=(0,2))"
   ]
  },
  {
   "cell_type": "markdown",
   "metadata": {
    "ExecuteTime": {
     "end_time": "2020-01-21T08:50:38.324736Z",
     "start_time": "2020-01-21T08:50:38.320100Z"
    }
   },
   "source": [
    "##  Balancing\n"
   ]
  },
  {
   "cell_type": "code",
   "execution_count": null,
   "metadata": {
    "ExecuteTime": {
     "end_time": "2020-04-08T14:32:28.071873Z",
     "start_time": "2020-04-08T14:32:18.707500Z"
    }
   },
   "outputs": [],
   "source": [
    "config[\"test_size\"] = 0.2\n",
    "#config[\"val_size\"]  = 0.5  ## test != val\n",
    "config[\"val_size\"]  = 0.0  ## test == val\n",
    "\n",
    "X_train, X_temp, y_train, y_temp, W_train, W_temp , Wnn_train, Wnn_temp = train_test_split(X_scaled, Y,  W, Wnn, test_size=config[\"test_size\"], random_state=42, stratify=Y)\n",
    "\n",
    "#X_val,   X_test, y_val,   y_test, W_val,   W_test = train_test_split(X_temp,   y_temp, W_temp, test_size=config[\"val_size\"]) ## test != val"
   ]
  },
  {
   "cell_type": "code",
   "execution_count": null,
   "metadata": {
    "ExecuteTime": {
     "end_time": "2020-04-08T14:32:29.139936Z",
     "start_time": "2020-04-08T14:32:29.135481Z"
    }
   },
   "outputs": [],
   "source": [
    "print(\"Training   dataset: \", X_train.shape)\n",
    "print(\"Test + Val dataset: \", X_temp.shape)\n",
    "#print(\"Testing    dataset: \", X_test.shape)\n",
    "#print(\"Validation dataset: \", X_val.shape)"
   ]
  },
  {
   "cell_type": "markdown",
   "metadata": {},
   "source": [
    "Create generators to balance signal and background"
   ]
  },
  {
   "cell_type": "code",
   "execution_count": null,
   "metadata": {
    "ExecuteTime": {
     "end_time": "2020-04-08T14:32:31.274213Z",
     "start_time": "2020-04-08T14:32:30.161500Z"
    }
   },
   "outputs": [],
   "source": [
    "config[\"batch_size\"] = 512\n",
    "\n",
    "training_generator,   steps_per_epoch_train = balanced_batch_generator(X_train, y_train, W_train, batch_size=config[\"batch_size\"], sampler=RandomOverSampler())\n",
    "#validation_generator, steps_per_epoch_val   = balanced_batch_generator(X_val,   y_val,   W_val,   batch_size=config[\"batch_size\"], sampler=RandomOverSampler()) ## test != val\n",
    "validation_generator, steps_per_epoch_val   = balanced_batch_generator(X_temp,  y_temp,  W_temp,   batch_size=config[\"batch_size\"], sampler=RandomOverSampler()) ## test == val"
   ]
  },
  {
   "cell_type": "markdown",
   "metadata": {},
   "source": [
    "## Keras model"
   ]
  },
  {
   "cell_type": "code",
   "execution_count": null,
   "metadata": {
    "ExecuteTime": {
     "end_time": "2020-04-08T13:38:55.983107Z",
     "start_time": "2020-04-08T13:38:55.571525Z"
    }
   },
   "outputs": [],
   "source": [
    "%load_ext autoreload"
   ]
  },
  {
   "cell_type": "code",
   "execution_count": null,
   "metadata": {
    "ExecuteTime": {
     "end_time": "2020-04-08T13:38:56.736205Z",
     "start_time": "2020-04-08T13:38:56.732165Z"
    }
   },
   "outputs": [],
   "source": [
    "%autoreload 2"
   ]
  },
  {
   "cell_type": "code",
   "execution_count": null,
   "metadata": {
    "ExecuteTime": {
     "end_time": "2020-01-27T10:43:12.667494Z",
     "start_time": "2020-01-27T10:43:12.356313Z"
    }
   },
   "outputs": [],
   "source": [
    "# import local module that programmatically returns keras models\n",
    "import dnn_models\n",
    "\n",
    "model = dnn_models.get_model(config[\"model_tag\"], X_train.shape[1])\n",
    "\n",
    "model.summary()"
   ]
  },
  {
   "cell_type": "code",
   "execution_count": null,
   "metadata": {
    "ExecuteTime": {
     "end_time": "2020-04-08T14:53:56.215896Z",
     "start_time": "2020-04-08T14:53:55.879568Z"
    }
   },
   "outputs": [],
   "source": [
    "from dnn_models import *\n",
    "\n",
    "model = Sequential()\n",
    "model.add(Dense(30, input_dim=X.shape[1], activation=\"relu\"))\n",
    "model.add(Dropout(0.2))\n",
    "model.add(Dense(30, activation=\"relu\"))\n",
    "model.add(Dropout(0.2))\n",
    "model.add(Dense(30, activation=\"relu\"))\n",
    "model.add(Dropout(0.2))\n",
    "model.add(Dense(Y.shape[1], activation=\"softmax\"))\n",
    "\n",
    "model.compile(optimizer='adam',\n",
    "            loss='categorical_crossentropy',\n",
    "            metrics=['accuracy'])\n",
    "\n",
    "model.summary()"
   ]
  },
  {
   "cell_type": "code",
   "execution_count": null,
   "metadata": {
    "ExecuteTime": {
     "end_time": "2020-04-08T13:39:09.468481Z",
     "start_time": "2020-04-08T13:39:09.111146Z"
    }
   },
   "outputs": [],
   "source": [
    "## import and configure the plot loss callback\n",
    "\n",
    "import dnn_plot_loss_multi\n",
    "\n",
    "data = {\n",
    "    \"X_train\": X_train,\n",
    "    #\"X_test\" : X_test, ## test != val\n",
    "    \"X_val\" : X_temp, ## test == val\n",
    "    \"y_train\": y_train,\n",
    "    #\"y_test\" : y_test, ## test != val\n",
    "    \"y_val\" : y_temp, ## test == val\n",
    "    \"W_train\": W_train,\n",
    "    #\"W_test\" : W_test, ## test != val\n",
    "    \"W_val\": W_temp, ## test == val\n",
    "    \"Wnn_train\": Wnn_train,\n",
    "    #\"W_test\" : W_test, ## test != val\n",
    "    \"Wnn_val\": Wnn_temp, ## test == val\n",
    "}\n",
    "\n",
    "plot_losses = dnn_plot_loss_multi.PlotLosses(model, data, batch_mode=True)"
   ]
  },
  {
   "cell_type": "code",
   "execution_count": null,
   "metadata": {
    "ExecuteTime": {
     "end_time": "2020-04-08T14:57:57.011183Z",
     "start_time": "2020-04-08T14:54:02.378113Z"
    },
    "scrolled": true
   },
   "outputs": [],
   "source": [
    "## TRAINING\n",
    "\n",
    "import time\n",
    "start_time = time.time()\n",
    "\n",
    "config[\"epochs\"] = 20\n",
    "\n",
    "history = model.fit_generator(\n",
    "            training_generator, \n",
    "            epochs=config[\"epochs\"],\n",
    "            steps_per_epoch  = steps_per_epoch_train, \n",
    "            validation_data  = validation_generator, \n",
    "            validation_steps = steps_per_epoch_val,\n",
    "            callbacks=[],\n",
    "            #callbacks = [], \n",
    "            )\n",
    "\n",
    "config[\"train_time\"] = time.time() - start_time"
   ]
  },
  {
   "cell_type": "code",
   "execution_count": null,
   "metadata": {
    "ExecuteTime": {
     "end_time": "2020-04-08T14:57:59.438810Z",
     "start_time": "2020-04-08T14:57:59.024209Z"
    }
   },
   "outputs": [],
   "source": [
    "y_predict = model.predict(X_temp, batch_size=2048)"
   ]
  },
  {
   "cell_type": "code",
   "execution_count": null,
   "metadata": {},
   "outputs": [],
   "source": []
  },
  {
   "cell_type": "code",
   "execution_count": null,
   "metadata": {
    "ExecuteTime": {
     "end_time": "2020-04-08T15:03:13.655903Z",
     "start_time": "2020-04-08T15:03:13.225635Z"
    }
   },
   "outputs": [],
   "source": [
    "# fig,(axs, axs2) = plt.subplots(2, 4, figsize=(24,10))\n",
    "axs[0].hist(y_predict[y_temp[:,0]==1][:,0], bins=40, range=(0.,1.), label=\"VBS cat\", histtype=\"step\", density=True)\n",
    "axs[0].hist(y_predict[y_temp[:,0]==1][:,1], bins=40, range=(0.,1.), label=\"W+jets cat\", histtype=\"step\", density=True)\n",
    "axs[0].hist(y_predict[y_temp[:,0]==1][:,2], bins=40, range=(0.,1.), label=\"Top cat\", histtype=\"step\", density=True)\n",
    "axs[0].hist(y_predict[y_temp[:,0]==1][:,3], bins=40, range=(0.,1.), label=\"Others cat\", histtype=\"step\", density=True)\n",
    "axs[0].set_title(\"VBS_ZV events\")\n",
    "axs[0].legend()\n",
    "\n",
    "axs[1].hist(y_predict[y_temp[:,1]==1][:,0], bins=40, range=(0.,1.), label=\"VBS cat\", histtype=\"step\", density=True)\n",
    "axs[1].hist(y_predict[y_temp[:,1]==1][:,1], bins=40, range=(0.,1.), label=\"W+jets cat\", histtype=\"step\", density=True)\n",
    "axs[1].hist(y_predict[y_temp[:,1]==1][:,2], bins=40, range=(0.,1.), label=\"Top cat\", histtype=\"step\", density=True)\n",
    "axs[1].hist(y_predict[y_temp[:,1]==1][:,3], bins=40, range=(0.,1.), label=\"Others cat\", histtype=\"step\", density=True)\n",
    "axs[1].set_title(\"DY events\")\n",
    "axs[1].legend()\n",
    "\n",
    "axs[2].hist(y_predict[y_temp[:,2]==1][:,0], bins=40, range=(0.,1.), label=\"VBS cat\", histtype=\"step\", density=True)\n",
    "axs[2].hist(y_predict[y_temp[:,2]==1][:,1], bins=40, range=(0.,1.), label=\"W+jets cat\", histtype=\"step\", density=True)\n",
    "axs[2].hist(y_predict[y_temp[:,2]==1][:,2], bins=40, range=(0.,1.), label=\"Top cat\", histtype=\"step\", density=True)\n",
    "axs[2].hist(y_predict[y_temp[:,2]==1][:,3], bins=40, range=(0.,1.), label=\"Others cat\", histtype=\"step\", density=True)\n",
    "axs[2].set_title(\"Top events\")\n",
    "axs[2].legend()\n",
    "\n",
    "axs[3].hist(y_predict[y_temp[:,3]==1][:,0], bins=40, range=(0.,1.), label=\"VBS cat\", histtype=\"step\", density=True)\n",
    "axs[3].hist(y_predict[y_temp[:,3]==1][:,1], bins=40, range=(0.,1.), label=\"W+jets cat\", histtype=\"step\", density=True)\n",
    "axs[3].hist(y_predict[y_temp[:,3]==1][:,2], bins=40, range=(0.,1.), label=\"Top cat\", histtype=\"step\", density=True)\n",
    "axs[3].hist(y_predict[y_temp[:,3]==1][:,3], bins=40, range=(0.,1.), label=\"Others cat\", histtype=\"step\", density=True)\n",
    "axs[3].set_title(\"Other events\")\n",
    "axs[3].legend()\n",
    "\n",
    "#######\n",
    "#categories\n",
    "\n",
    "axs2[0].hist(y_predict[y_temp[:,0]==1][:,0], bins=40, range=(0.,1.), label=\"VBS events\", histtype=\"step\", density=True, cumulative=-1)\n",
    "axs2[0].hist(y_predict[y_temp[:,1]==1][:,0], bins=40, range=(0.,1.), label=\"W+jets events\", histtype=\"step\", density=True)\n",
    "axs2[0].hist(y_predict[y_temp[:,2]==1][:,0], bins=40, range=(0.,1.), label=\"Top events\", histtype=\"step\", density=True)\n",
    "axs2[0].hist(y_predict[y_temp[:,3]==1][:,0], bins=40, range=(0.,1.), label=\"Others events\", histtype=\"step\", density=True)\n",
    "axs2[0].hist(y_predict[y_temp[:,0]!=1][:,0], bins=40, range=(0.,1.), label=\"All BKG\", histtype=\"step\", density=True)\n",
    "axs2[0].set_title(\"VBS_ZV category\")\n",
    "axs2[0].set_yscale(\"log\")\n",
    "axs2[0].legend()\n",
    "\n",
    "axs2[1].hist(y_predict[y_temp[:,0]==1][:,1], bins=40, range=(0.,1.), label=\"VBS events\", histtype=\"step\", density=True)\n",
    "axs2[1].hist(y_predict[y_temp[:,1]==1][:,1], bins=40, range=(0.,1.), label=\"W+jets events\", histtype=\"step\", density=True)\n",
    "axs2[1].hist(y_predict[y_temp[:,2]==1][:,1], bins=40, range=(0.,1.), label=\"Top events\", histtype=\"step\", density=True)\n",
    "axs2[1].hist(y_predict[y_temp[:,3]==1][:,1], bins=40, range=(0.,1.), label=\"Others events\", histtype=\"step\", density=True)\n",
    "axs2[1].set_title(\"DY category\")\n",
    "axs2[1].legend()\n",
    "\n",
    "axs2[2].hist(y_predict[y_temp[:,0]==1][:,2], bins=40, range=(0.,1.), label=\"VBS events\", histtype=\"step\", density=True)\n",
    "axs2[2].hist(y_predict[y_temp[:,1]==1][:,2], bins=40, range=(0.,1.), label=\"W+jets events\", histtype=\"step\", density=True)\n",
    "axs2[2].hist(y_predict[y_temp[:,2]==1][:,2], bins=40, range=(0.,1.), label=\"Top events\", histtype=\"step\", density=True)\n",
    "axs2[2].hist(y_predict[y_temp[:,3]==1][:,2], bins=40, range=(0.,1.), label=\"Others events\", histtype=\"step\", density=True)\n",
    "axs2[2].set_title(\"Top category\")\n",
    "axs2[2].legend()\n",
    "\n",
    "axs2[3].hist(y_predict[y_temp[:,0]==1][:,3], bins=40, range=(0.,1.), label=\"VBS events\", histtype=\"step\", density=True)\n",
    "axs2[3].hist(y_predict[y_temp[:,1]==1][:,3], bins=40, range=(0.,1.), label=\"W+jets events\", histtype=\"step\", density=True)\n",
    "axs2[3].hist(y_predict[y_temp[:,2]==1][:,3], bins=40, range=(0.,1.), label=\"Top events\", histtype=\"step\", density=True)\n",
    "axs2[3].hist(y_predict[y_temp[:,3]==1][:,3], bins=40, range=(0.,1.), label=\"Others events\", histtype=\"step\", density=True)\n",
    "axs2[3].set_title(\"Other category\")\n",
    "axs2[3].legend()\n"
   ]
  },
  {
   "cell_type": "code",
   "execution_count": null,
   "metadata": {},
   "outputs": [],
   "source": []
  },
  {
   "cell_type": "code",
   "execution_count": null,
   "metadata": {},
   "outputs": [],
   "source": [
    "config[\"train_time\"]"
   ]
  },
  {
   "cell_type": "code",
   "execution_count": null,
   "metadata": {
    "ExecuteTime": {
     "end_time": "2020-01-27T12:55:58.730850Z",
     "start_time": "2020-01-27T12:55:57.810345Z"
    }
   },
   "outputs": [],
   "source": [
    "## SAVE THE MODEL, ITS METADATA AND TRAINING INFORMATIONS\n",
    "\n",
    "# dump the variables list\n",
    "import yaml\n",
    "varfile = os.path.join(model_dir, \"variables.yml\")\n",
    "if os.path.isfile(varfile):\n",
    "    print(\"ACHTUNG! variables file already existing: old file renamed with '_old'\")\n",
    "    os.rename(varfile, varfile[:-4] + \"_old.yml\")\n",
    "with open(varfile, \"w\") as out_var_file:\n",
    "    out_var_file.write(yaml.dump(config[\"cols\"]))\n",
    "    \n",
    "# dump the config\n",
    "config[\"a__model_dir\"] = model_dir\n",
    "model_config_file = os.path.join(model_dir, \"model_config.yml\")\n",
    "if os.path.isfile(model_config_file):\n",
    "    print(\"ACHTUNG! model_config_file file already existing: old file renamed with '_old'\")\n",
    "    os.rename(model_config_file, model_config_file[:-4] + \"_old.yml\")\n",
    "with open(model_config_file, \"w\") as out_var_file:\n",
    "    out_var_file.write(yaml.dump(config))  \n",
    "\n",
    "# save figure with training summary\n",
    "plot_losses.save_figure( os.path.join(model_dir, \"model_train.png\") )\n",
    "\n",
    "# save keras model\n",
    "model.save( os.path.join(model_dir, \"model.h5\") )"
   ]
  },
  {
   "cell_type": "code",
   "execution_count": null,
   "metadata": {},
   "outputs": [],
   "source": [
    "## Export:\n",
    "## * keras model to tensorflow model\n",
    "## * tf metadata\n",
    "## * scaler\n",
    "\n",
    "args = {\n",
    "    \"dir\": model_dir,\n",
    "    \"input\": \"model.h5\",\n",
    "    \"output\": \"model.pb\",\n",
    "    \"tf_metadata\": \"tf_metadata.txt\",\n",
    "    \"input_scaler\": \"scaler_model.pkl\",\n",
    "    \"output_scaler\": \"scaler.txt\",\n",
    "}\n",
    "\n",
    "\n",
    "from keras import backend as K\n",
    "# This line must be executed before loading Keras model.\n",
    "K.set_learning_phase(0)\n",
    "\n",
    "from keras.models import load_model\n",
    "model = load_model(os.path.join(args[\"dir\"], args[\"input\"]))\n",
    "\n",
    "from keras import backend as K\n",
    "import tensorflow as tf\n",
    "\n",
    "def freeze_session(session, keep_var_names=None, output_names=None, clear_devices=True):\n",
    "    \"\"\"\n",
    "    Freezes the state of a session into a pruned computation graph.\n",
    "\n",
    "    Creates a new computation graph where variable nodes are replaced by\n",
    "    constants taking their current value in the session. The new graph will be\n",
    "    pruned so subgraphs that are not necessary to compute the requested\n",
    "    outputs are removed.\n",
    "    @param session The TensorFlow session to be frozen.\n",
    "    @param keep_var_names A list of variable names that should not be frozen,\n",
    "                          or None to freeze all the variables in the graph.\n",
    "    @param output_names Names of the relevant graph outputs.\n",
    "    @param clear_devices Remove the device directives from the graph for better portability.\n",
    "    @return The frozen graph definition.\n",
    "    \"\"\"\n",
    "    from tensorflow.python.framework.graph_util import convert_variables_to_constants\n",
    "    graph = session.graph\n",
    "    with graph.as_default():\n",
    "        freeze_var_names = list(set(v.op.name for v in tf.global_variables()).difference(keep_var_names or []))\n",
    "        output_names = output_names or []\n",
    "        output_names += [v.op.name for v in tf.global_variables()]\n",
    "        # Graph -> GraphDef ProtoBuf\n",
    "        input_graph_def = graph.as_graph_def()\n",
    "        if clear_devices:\n",
    "            for node in input_graph_def.node:\n",
    "                node.device = \"\"\n",
    "        frozen_graph = convert_variables_to_constants(session, input_graph_def,\n",
    "                                                      output_names, freeze_var_names)\n",
    "        return frozen_graph\n",
    "\n",
    "\n",
    "frozen_graph = freeze_session(K.get_session(),\n",
    "                              output_names=[out.op.name for out in model.outputs])\n",
    "\n",
    "# Save to ./model/tf_model.pb\n",
    "tf.train.write_graph(frozen_graph, args[\"dir\"], args[\"output\"], as_text=False)\n",
    "\n",
    "## save tensorflow metadata\n",
    "with open(os.path.join(args[\"dir\"], args[\"tf_metadata\"]), \"w\") as f:\n",
    "    f.write(str(model.inputs[0].name) + \" \" + str(model.outputs[0].name) + \"\\n\")\n",
    "\n",
    "\n",
    "## Export \n",
    "## * tf tensor input name and output name\n",
    "## * scaler mean_ and scale_ (where scale_ = np.sqrt(var_)) for each variable\n",
    "##\n",
    "import os\n",
    "import pickle\n",
    "\n",
    "import yaml\n",
    "yaml_vars = yaml.safe_load(open(os.path.join(args[\"dir\"], \"variables.yml\"), \"r\"))\n",
    "\n",
    "scaler = pickle.load(open(os.path.join(args[\"dir\"], args[\"input_scaler\"]), 'rb'))\n",
    "with open(os.path.join(args[\"dir\"], args[\"output_scaler\"]), \"w\") as f:\n",
    "    for var, mean, scale in zip(yaml_vars, scaler.mean_, scaler.scale_):\n",
    "        f.write(var + \" \" + str(mean) + \" \" + str(scale) + \"\\n\")\n"
   ]
  },
  {
   "cell_type": "code",
   "execution_count": null,
   "metadata": {},
   "outputs": [],
   "source": [
    "## Retrieve graphs history\n",
    "## plot \n",
    "# n = 30\n",
    "# plt.hist(plot_losses.dnn_score_plot[n][0][1][:-1], bins=plot_losses.dnn_score_plot[n][0][1], weights=plot_losses.dnn_score_plot[n][0][0], histtype=\"step\")\n",
    "# plt.hist(plot_losses.dnn_score_plot[n][1][1][:-1], bins=plot_losses.dnn_score_plot[n][1][1], weights=plot_losses.dnn_score_plot[n][1][0], histtype=\"step\")"
   ]
  },
  {
   "cell_type": "markdown",
   "metadata": {},
   "source": [
    "### Columns List"
   ]
  },
  {
   "cell_type": "markdown",
   "metadata": {},
   "source": [
    "```.python\n",
    "# resolved\n",
    "    \"cols\": ['mjj_vbs', \n",
    "             'vbs_0_pt', \n",
    "             'vbs_1_pt', \n",
    "             'deltaeta_vbs',\n",
    "             'deltaphi_vbs', \n",
    "             'mjj_vjet', \n",
    "             'vjet_0_pt', \n",
    "             'vjet_1_pt', \n",
    "             'vjet_0_eta', \n",
    "             'vjet_1_eta', \n",
    "             'Lepton_pt', \n",
    "             'Lepton_eta', \n",
    "             'Lepton_flavour', \n",
    "             'PuppiMET', \n",
    "             'Zvjets_0', \n",
    "             'Zlep', \n",
    "             'Asym_vbs', \n",
    "             'Asym_vjet', \n",
    "             'A_ww', \n",
    "             'Mtw_lep', \n",
    "             'w_lep_pt', \n",
    "             'Mww', \n",
    "             'R_ww', \n",
    "             'R_mw', \n",
    "             'Centr_vbs', \n",
    "             'Centr_ww'\n",
    "         ]\n",
    "\n",
    "# boosted\n",
    "    \"cols\": ['mjj_vbs', \n",
    "             'vbs_0_pt', \n",
    "             'vbs_1_pt', \n",
    "             'deltaeta_vbs',\n",
    "             'deltaphi_vbs', \n",
    "             'mjj_vjet', \n",
    "             'vjet_0_pt', \n",
    "             'vjet_1_pt', \n",
    "             'vjet_0_eta', \n",
    "             'vjet_1_eta', \n",
    "             'Lepton_pt', \n",
    "             'Lepton_eta', \n",
    "             'Lepton_flavour', \n",
    "             'PuppiMET', \n",
    "             'Zvjets_0', \n",
    "             'Zlep', \n",
    "             'Asym_vbs', \n",
    "             'Asym_vjet', \n",
    "             'A_ww', \n",
    "             'Mtw_lep', \n",
    "             'w_lep_pt', \n",
    "             'Mww', \n",
    "             'R_ww', \n",
    "             'R_mw', \n",
    "             'Centr_vbs', \n",
    "             'Centr_ww'\n",
    "         ]\n",
    "\n",
    "         \n",
    "# OLD\n",
    "    \"cols\": ['mjj_vbs', 'deltaeta_vbs', \n",
    "            'mjj_vjet', \n",
    "            'Lepton_pt', 'Lepton_eta' ]\n",
    "    \"cols\": ['mjj_vbs', \n",
    "             'vbs_0_pt', 'vbs_1_pt', \n",
    "             'deltaeta_vbs', 'deltaphi_vbs', \n",
    "             'mjj_vjet', \n",
    "             'vjet_0_pt', 'vjet_1_pt', \n",
    "             'vjet_0_eta', 'vjet_1_eta', \n",
    "             'Lepton_pt', 'Lepton_eta', 'Lepton_flavour', \n",
    "         ]\n",
    "```"
   ]
  },
  {
   "cell_type": "code",
   "execution_count": null,
   "metadata": {},
   "outputs": [],
   "source": []
  }
 ],
 "metadata": {
  "kernelspec": {
   "display_name": "Python 3",
   "language": "python",
   "name": "python3"
  },
  "language_info": {
   "codemirror_mode": {
    "name": "ipython",
    "version": 3
   },
   "file_extension": ".py",
   "mimetype": "text/x-python",
   "name": "python",
   "nbconvert_exporter": "python",
   "pygments_lexer": "ipython3",
   "version": "3.7.6"
  },
  "toc": {
   "base_numbering": 1,
   "nav_menu": {},
   "number_sections": true,
   "sideBar": true,
   "skip_h1_title": false,
   "title_cell": "Table of Contents",
   "title_sidebar": "Contents",
   "toc_cell": false,
   "toc_position": {},
   "toc_section_display": true,
   "toc_window_display": false
  },
  "varInspector": {
   "cols": {
    "lenName": 16,
    "lenType": 16,
    "lenVar": 40
   },
   "kernels_config": {
    "python": {
     "delete_cmd_postfix": "",
     "delete_cmd_prefix": "del ",
     "library": "var_list.py",
     "varRefreshCmd": "print(var_dic_list())"
    },
    "r": {
     "delete_cmd_postfix": ") ",
     "delete_cmd_prefix": "rm(",
     "library": "var_list.r",
     "varRefreshCmd": "cat(var_dic_list()) "
    }
   },
   "types_to_exclude": [
    "module",
    "function",
    "builtin_function_or_method",
    "instance",
    "_Feature"
   ],
   "window_display": false
  }
 },
 "nbformat": 4,
 "nbformat_minor": 2
}
