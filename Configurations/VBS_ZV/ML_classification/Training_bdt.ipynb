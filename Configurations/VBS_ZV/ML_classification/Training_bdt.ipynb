{
 "cells": [
  {
   "cell_type": "code",
   "execution_count": 1,
   "metadata": {
    "ExecuteTime": {
     "end_time": "2020-02-19T22:22:54.513692Z",
     "start_time": "2020-02-19T22:22:50.800400Z"
    }
   },
   "outputs": [],
   "source": [
    "import pandas as pd\n",
    "import numpy as np\n",
    "import matplotlib as mpl\n",
    "import matplotlib.pyplot as plt\n",
    "\n",
    "# mpl.rcParams['figure.figsize'] = (6,6)\n",
    "# mpl.rcParams['figure.dpi'] = 100\n",
    "# mpl.rcParams[\"image.origin\"] = 'lower'"
   ]
  },
  {
   "cell_type": "code",
   "execution_count": 12,
   "metadata": {
    "ExecuteTime": {
     "end_time": "2020-02-19T22:27:37.958980Z",
     "start_time": "2020-02-19T22:27:37.951032Z"
    }
   },
   "outputs": [],
   "source": [
    "config = {\n",
    "    \"base_dir\":        \"/eos/home-d/dmapelli/public/latino/\",\n",
    "    \"plot_config\":     \"Full2018v6s5\",\n",
    "    \"cut\":             \"boos_sig_mjjincl\",\n",
    "    \"model_version\":   \"bdt_v1\",\n",
    "    \"model_tag\":       \"boost_5vars_v0\",\n",
    "    \"samples_version\": \"v10\",\n",
    "    \"cols\": ['mjj_vbs', 'vbs_0_pt', 'vbs_1_pt', 'deltaeta_vbs', 'deltaphi_vbs', \n",
    "          'mjj_vjet', 'vjet_0_pt', 'vjet_1_pt', 'vjet_0_eta', 'vjet_1_eta', \n",
    "         'Lepton_pt', 'Lepton_eta', 'Lepton_flavour', \n",
    "         'PuppiMET', \n",
    "         'Zvjets_0', 'Zlep', \n",
    "         'Asym_vbs', 'Asym_vjet', 'A_ww', \n",
    "         'Mtw_lep', 'w_lep_pt', 'Mww', 'R_ww', 'R_mw', \n",
    "         'Centr_vbs', 'Centr_ww'\n",
    "         ]\n",
    "}"
   ]
  },
  {
   "cell_type": "markdown",
   "metadata": {},
   "source": [
    "```.python\n",
    "\"cut\":             \"boos_sig_mjjincl\",\n",
    "\"cut\":             \"res_sig_mjjincl\",\n",
    "\n",
    "\"model_tag\":       \"res_5depth_v0\",\n",
    "\n",
    "    \"cols\": ['mjj_vbs', 'deltaeta_vbs', \n",
    "            'mjj_vjet', \n",
    "            'Lepton_pt', 'Lepton_eta' ]\n",
    "    \"cols\": ['mjj_vbs', 'vbs_0_pt', 'vbs_1_pt', 'deltaeta_vbs', 'deltaphi_vbs', \n",
    "          'mjj_vjet', 'vjet_0_pt', 'vjet_1_pt', 'vjet_0_eta', 'vjet_1_eta', \n",
    "         'Lepton_pt', 'Lepton_eta', 'Lepton_flavour', \n",
    "         ]\n",
    "    \"cols\": ['mjj_vbs', 'vbs_0_pt', 'vbs_1_pt', 'deltaeta_vbs', 'deltaphi_vbs', \n",
    "          'mjj_vjet', 'vjet_0_pt', 'vjet_1_pt', 'vjet_0_eta', 'vjet_1_eta', \n",
    "         'Lepton_pt', 'Lepton_eta', 'Lepton_flavour', \n",
    "         'PuppiMET', \n",
    "         'Zvjets_0', 'Zlep', \n",
    "         'Asym_vbs', 'Asym_vjet', 'A_ww', \n",
    "         'Mtw_lep', 'w_lep_pt', 'Mww', 'R_ww', 'R_mw', \n",
    "         'Centr_vbs', 'Centr_ww'\n",
    "         ]\n",
    " ```"
   ]
  },
  {
   "cell_type": "code",
   "execution_count": 13,
   "metadata": {
    "ExecuteTime": {
     "end_time": "2020-02-19T22:27:40.497148Z",
     "start_time": "2020-02-19T22:27:38.676379Z"
    }
   },
   "outputs": [],
   "source": [
    "import os\n",
    "\n",
    "config_base_dir = os.path.join(config[\"base_dir\"], config[\"plot_config\"])\n",
    "\n",
    "# create the model directory\n",
    "model_dir   = os.path.join(config_base_dir, config[\"cut\"] , \"models\",  config[\"model_version\"])\n",
    "os.makedirs(model_dir, exist_ok=True)\n",
    "\n",
    "# load numpy\n",
    "samples_dir = os.path.join(config_base_dir, config[\"cut\"] , \"samples\", config[\"samples_version\"])\n",
    "import pickle\n",
    "signal = pickle.load(open(os.path.join(samples_dir, \"for_training/signal_balanced.pkl\"),     \"rb\"))\n",
    "bkg    = pickle.load(open(os.path.join(samples_dir, \"for_training/background_balanced.pkl\"), \"rb\"))"
   ]
  },
  {
   "cell_type": "markdown",
   "metadata": {},
   "source": [
    "## Samples preparation for NN"
   ]
  },
  {
   "cell_type": "code",
   "execution_count": 16,
   "metadata": {
    "ExecuteTime": {
     "end_time": "2020-02-19T22:32:42.022997Z",
     "start_time": "2020-02-19T22:32:38.073349Z"
    }
   },
   "outputs": [],
   "source": [
    "# Machine Leanring libraires \n",
    "from sklearn.model_selection import KFold, StratifiedKFold, train_test_split\n",
    "from sklearn.ensemble import RandomForestClassifier\n",
    "from sklearn.svm import SVC, LinearSVC\n",
    "from sklearn.neighbors import KNeighborsClassifier\n",
    "\n",
    "\n",
    "# Import useful Evaluation Metrics\n",
    "from sklearn import metrics\n",
    "from sklearn.metrics import recall_score, roc_auc_score, accuracy_score, confusion_matrix, make_scorer, classification_report, roc_curve, auc, f1_score\n",
    "from sklearn.ensemble import RandomForestRegressor, RandomForestClassifier "
   ]
  },
  {
   "cell_type": "code",
   "execution_count": 25,
   "metadata": {
    "ExecuteTime": {
     "end_time": "2020-02-19T22:40:36.380980Z",
     "start_time": "2020-02-19T22:40:36.314946Z"
    }
   },
   "outputs": [],
   "source": [
    "X_sig = signal[config[\"cols\"]].values\n",
    "X_bkg = bkg[config[\"cols\"]].values[:X_sig.shape[0]]\n",
    "Y_sig = np.ones(len(X_sig))\n",
    "Y_bkg = np.zeros(len(X_bkg))\n",
    "W_sig = (signal[\"weight_norm\"]).values\n",
    "W_bkg = (bkg[\"weight_norm\"]).values\n",
    "Wnn_sig = (signal[\"weight_\"]).values\n",
    "Wnn_bkg = (bkg[\"weight_\"]).values"
   ]
  },
  {
   "cell_type": "code",
   "execution_count": 26,
   "metadata": {
    "ExecuteTime": {
     "end_time": "2020-02-19T22:40:37.585985Z",
     "start_time": "2020-02-19T22:40:37.569805Z"
    }
   },
   "outputs": [],
   "source": [
    "X = np.vstack([X_sig, X_bkg])\n",
    "Y = np.hstack([Y_sig, Y_bkg])\n",
    "W = np.hstack([W_sig, W_bkg])\n",
    "Wnn = np.hstack([Wnn_sig, Wnn_bkg])"
   ]
  },
  {
   "cell_type": "code",
   "execution_count": 27,
   "metadata": {
    "ExecuteTime": {
     "end_time": "2020-02-19T22:40:38.115989Z",
     "start_time": "2020-02-19T22:40:38.076022Z"
    }
   },
   "outputs": [
    {
     "ename": "NameError",
     "evalue": "name 'StandardScaler' is not defined",
     "output_type": "error",
     "traceback": [
      "\u001b[0;31m---------------------------------------------------------------------------\u001b[0m",
      "\u001b[0;31mNameError\u001b[0m                                 Traceback (most recent call last)",
      "\u001b[0;32m<ipython-input-27-3feeffe4b3f0>\u001b[0m in \u001b[0;36m<module>\u001b[0;34m\u001b[0m\n\u001b[0;32m----> 1\u001b[0;31m \u001b[0mscaler\u001b[0m \u001b[0;34m=\u001b[0m \u001b[0mStandardScaler\u001b[0m\u001b[0;34m(\u001b[0m\u001b[0;34m)\u001b[0m\u001b[0;34m\u001b[0m\u001b[0m\n\u001b[0m\u001b[1;32m      2\u001b[0m \u001b[0mX_scaled\u001b[0m \u001b[0;34m=\u001b[0m \u001b[0mscaler\u001b[0m\u001b[0;34m.\u001b[0m\u001b[0mfit_transform\u001b[0m\u001b[0;34m(\u001b[0m\u001b[0mX\u001b[0m\u001b[0;34m)\u001b[0m\u001b[0;34m\u001b[0m\u001b[0m\n\u001b[1;32m      3\u001b[0m \u001b[0mpickle\u001b[0m\u001b[0;34m.\u001b[0m\u001b[0mdump\u001b[0m\u001b[0;34m(\u001b[0m\u001b[0mscaler\u001b[0m\u001b[0;34m,\u001b[0m \u001b[0mopen\u001b[0m\u001b[0;34m(\u001b[0m\u001b[0;34mf\"{model_dir}/scaler_model.pkl\"\u001b[0m\u001b[0;34m,\u001b[0m \u001b[0;34m\"wb\"\u001b[0m\u001b[0;34m)\u001b[0m\u001b[0;34m)\u001b[0m\u001b[0;34m\u001b[0m\u001b[0m\n",
      "\u001b[0;31mNameError\u001b[0m: name 'StandardScaler' is not defined"
     ]
    }
   ],
   "source": [
    "scaler = StandardScaler()\n",
    "X_scaled = scaler.fit_transform(X)\n",
    "pickle.dump(scaler, open(f\"{model_dir}/scaler_model.pkl\", \"wb\"))"
   ]
  },
  {
   "cell_type": "markdown",
   "metadata": {},
   "source": [
    " # BDT "
   ]
  },
  {
   "cell_type": "code",
   "execution_count": 31,
   "metadata": {
    "ExecuteTime": {
     "end_time": "2020-02-19T22:44:49.774112Z",
     "start_time": "2020-02-19T22:43:34.894772Z"
    }
   },
   "outputs": [
    {
     "name": "stdout",
     "output_type": "stream",
     "text": [
      "Train AUC 0.9972569338616275, train acc 0.9972569338616275\n",
      "Val AUC 0.7062408581179912, val acc 0.7062408581179912\n",
      "Train AUC 0.9970740627857362, train acc 0.9970740627857361\n",
      "Val AUC 0.7039249146757679, val acc 0.7039249146757679\n",
      "Train AUC 0.9970437644764111, train acc 0.9970437644764111\n",
      "Val AUC 0.7106803218727139, val acc 0.710680321872714\n",
      "Train AUC 0.9972571010605876, train acc 0.9972571010605876\n",
      "Val AUC 0.7092172640819313, val acc 0.7092172640819312\n",
      "Train AUC 0.9967694745824699, train acc 0.9967694745824698\n",
      "Val AUC 0.7040965618141917, val acc 0.7040965618141917\n",
      "Train AUC 0.9971959768363304, train acc 0.9971959768363304\n",
      "Val AUC 0.7057532910775233, val acc 0.7057532910775232\n",
      "Train AUC 0.9966168850960073, train acc 0.9966168850960073\n",
      "Val AUC 0.7097757191613847, val acc 0.7097757191613847\n",
      "Train AUC 0.9972875777154699, train acc 0.9972875777154699\n",
      "Val AUC 0.7058034625701048, val acc 0.7058034625701048\n",
      "Train AUC 0.9968913812019993, train acc 0.9968913812019993\n",
      "Val AUC 0.7117776152158011, val acc 0.7117776152158011\n",
      "Train AUC 0.9967389979275875, train acc 0.9967389979275875\n",
      "Val AUC 0.705315776639844, val acc 0.7053157766398439\n",
      "Train AUC 0.997074062785736, train acc 0.9970740627857361\n",
      "Val AUC 0.712457337883959, val acc 0.712457337883959\n",
      "Train AUC 0.9969826272477903, train acc 0.9969826272477903\n",
      "Val AUC 0.7147732813261823, val acc 0.7147732813261823\n",
      "Train AUC 0.9966170913080581, train acc 0.996617091308058\n",
      "Val AUC 0.702633504023409, val acc 0.702633504023409\n",
      "Train AUC 0.9969218578568817, train acc 0.9969218578568816\n",
      "Val AUC 0.7156791026578884, val acc 0.7156791026578884\n",
      "Train AUC 0.9968913812019993, train acc 0.9968913812019993\n",
      "Val AUC 0.7087295781516703, val acc 0.7087295781516704\n",
      "Train AUC 0.9971959768363303, train acc 0.9971959768363304\n",
      "Val AUC 0.7018527547537786, val acc 0.7018527547537786\n",
      "Train AUC 0.9966473636086559, train acc 0.9966473636086559\n",
      "Val AUC 0.711725987323257, val acc 0.711725987323257\n",
      "Train AUC 0.9969828111666464, train acc 0.9969828111666463\n",
      "Val AUC 0.7097049500121921, val acc 0.7097049500121921\n",
      "Train AUC 0.9968304278922346, train acc 0.9968304278922345\n",
      "Val AUC 0.7077542062911485, val acc 0.7077542062911485\n",
      "Train AUC 0.9970132878215288, train acc 0.9970132878215288\n",
      "Val AUC 0.705803462570105, val acc 0.7058034625701048\n",
      "Train AUC 0.9970435842730876, train acc 0.9970435842730875\n",
      "Val AUC 0.7108727450024379, val acc 0.7108727450024378\n",
      "Train AUC 0.9972569338616276, train acc 0.9972569338616275\n",
      "Val AUC 0.7166016577279376, val acc 0.7166016577279376\n",
      "Train AUC 0.9968304278922345, train acc 0.9968304278922345\n",
      "Val AUC 0.7017800536454524, val acc 0.7017800536454524\n",
      "Train AUC 0.9968913812019993, train acc 0.9968913812019993\n",
      "Val AUC 0.6993416239941478, val acc 0.6993416239941478\n",
      "Train AUC 0.9970132878215286, train acc 0.9970132878215288\n",
      "Val AUC 0.7121433796634967, val acc 0.7121433796634967\n",
      "Train AUC 0.9968302346845475, train acc 0.9968302346845473\n",
      "Val AUC 0.7146513895660653, val acc 0.7146513895660653\n",
      "Train AUC 0.9974093264248706, train acc 0.9974093264248705\n",
      "Val AUC 0.6980741101901511, val acc 0.6980741101901512\n",
      "Train AUC 0.9967389979275874, train acc 0.9967389979275875\n",
      "Val AUC 0.7166544745184101, val acc 0.7166544745184101\n",
      "Train AUC 0.9971047177861758, train acc 0.9971047177861758\n",
      "Val AUC 0.7065349914654964, val acc 0.7065349914654963\n",
      "Train AUC 0.9965256613434109, train acc 0.9965256613434109\n",
      "Val AUC 0.704340404779322, val acc 0.7043404047793221\n",
      "Train AUC 0.9966778421213044, train acc 0.9966778421213045\n",
      "Val AUC 0.7090443686006827, val acc 0.7090443686006825\n",
      "Train AUC 0.9972569338616276, train acc 0.9972569338616275\n",
      "Val AUC 0.7085568015602145, val acc 0.7085568015602145\n",
      "Train AUC 0.9969828111666464, train acc 0.9969828111666463\n",
      "Val AUC 0.7106803218727139, val acc 0.710680321872714\n",
      "Train AUC 0.9966475679629403, train acc 0.9966475679629404\n",
      "Val AUC 0.7023896610582785, val acc 0.7023896610582785\n",
      "Train AUC 0.9970132878215288, train acc 0.9970132878215288\n",
      "Val AUC 0.7044623262618873, val acc 0.7044623262618873\n",
      "Train AUC 0.9973483693995732, train acc 0.9973483693995733\n",
      "Val AUC 0.7035592393954169, val acc 0.7035592393954169\n",
      "Train AUC 0.9968911917098445, train acc 0.9968911917098445\n",
      "Val AUC 0.7033154558751828, val acc 0.7033154558751828\n",
      "Train AUC 0.9972266244057052, train acc 0.9972266244057052\n",
      "Val AUC 0.7037307973664959, val acc 0.703730797366496\n",
      "Train AUC 0.9972875777154699, train acc 0.9972875777154699\n",
      "Val AUC 0.7089734211168008, val acc 0.7089734211168007\n",
      "Train AUC 0.9971351944410581, train acc 0.9971351944410581\n",
      "Val AUC 0.7117776152158011, val acc 0.7117776152158011\n",
      "Train AUC 0.99655592807071, train acc 0.9965559280707101\n",
      "Val AUC 0.7084349098000975, val acc 0.7084349098000975\n",
      "Train AUC 0.9971654983236817, train acc 0.9971654983236818\n",
      "Val AUC 0.7055095075572891, val acc 0.7055095075572891\n",
      "Train AUC 0.9973180543703523, train acc 0.9973180543703523\n",
      "Val AUC 0.698975859546452, val acc 0.6989758595464521\n",
      "Train AUC 0.9965256613434109, train acc 0.9965256613434109\n",
      "Val AUC 0.707510363326018, val acc 0.707510363326018\n",
      "Train AUC 0.9975313909545288, train acc 0.9975313909545288\n",
      "Val AUC 0.7099487929773226, val acc 0.7099487929773226\n",
      "Train AUC 0.9965559280707103, train acc 0.9965559280707101\n",
      "Val AUC 0.7122135543637251, val acc 0.712213554363725\n",
      "Train AUC 0.9966778421213045, train acc 0.9966778421213045\n",
      "Val AUC 0.6994149195514383, val acc 0.6994149195514383\n",
      "Train AUC 0.9971656710959406, train acc 0.9971656710959406\n",
      "Val AUC 0.709704950012192, val acc 0.7097049500121921\n",
      "Train AUC 0.9965866146531757, train acc 0.9965866146531757\n",
      "Val AUC 0.7019019751280176, val acc 0.7019019751280176\n",
      "Train AUC 0.9970132878215288, train acc 0.9970132878215288\n",
      "Val AUC 0.7164106315532797, val acc 0.7164106315532797\n"
     ]
    }
   ],
   "source": [
    "i = 0\n",
    "k_out   = 10    # number of iterations\n",
    "k_in    = 5     # k-fold cross validation\n",
    "\n",
    "n_estimators  = [3, 9, 16, 32, 64, 100, 120, 140] # 200 32, 64, 100\n",
    "\n",
    "train_results = []\n",
    "test_results  = []\n",
    "val_results  = []\n",
    "\n",
    "train_results_acc = []\n",
    "test_results_acc  = []\n",
    "val_results_acc = []\n",
    "\n",
    "acc = np.zeros(k_in)\n",
    "sens = np.zeros(k_in)\n",
    "spec = np.zeros(k_in)\n",
    "roc = np.zeros(k_in)\n",
    "\n",
    "acc_avg  = np.zeros(k_out)\n",
    "sens_avg = np.zeros(k_out)\n",
    "spec_avg = np.zeros(k_out) \n",
    "auc_avg = np.zeros(k_out) \n",
    "\n",
    "while i<k_out: # set number of iterations\n",
    "\n",
    "    # Split training and testing, then use training set for the k-fold cross validation\n",
    "    X_train, X_test, Y_train, Y_test = train_test_split(X, Y, test_size=0.10, shuffle=True, stratify = Y)\n",
    "    \n",
    "    skf = StratifiedKFold(n_splits=k_in, shuffle = True)\n",
    "    for train_index, val_index in skf.split(X_train, Y_train):\n",
    "        \n",
    "        # 4-folds for traing\n",
    "        X_tr = X_train[train_index]\n",
    "        y_tr = Y_train[train_index]  \n",
    "        \n",
    "        # 1 fold for validation\n",
    "        X_val = X_train[val_index]\n",
    "        y_val = Y_train[val_index]    \n",
    "\n",
    "\n",
    "        rf = RandomForestClassifier(n_estimators=20, class_weight='balanced_subsample', n_jobs=-1)\n",
    "        rf.fit(X_tr, y_tr) \n",
    "\n",
    "        train_pred = rf.predict(X_tr)\n",
    "        false_positive_rate, true_positive_rate, thresholds = roc_curve(y_tr, train_pred)\n",
    "        roc_auc = auc(false_positive_rate, true_positive_rate)\n",
    "        train_acc = accuracy_score(y_tr, train_pred)                \n",
    "        train_results.append(roc_auc)\n",
    "        train_results_acc.append(train_acc)\n",
    "        \n",
    "        print(f\"Train AUC {roc_auc}, train acc {train_acc}\")\n",
    "\n",
    "        val_pred = rf.predict(X_val)\n",
    "        false_positive_rate, true_positive_rate, thresholds = roc_curve(y_val, val_pred)\n",
    "        roc_auc = auc(false_positive_rate, true_positive_rate)\n",
    "        val_acc = accuracy_score(y_val, val_pred) \n",
    "        val_results.append(roc_auc)\n",
    "        val_results_acc.append(val_acc)      \n",
    "        \n",
    "        print(f\"Val AUC {roc_auc}, val acc {val_acc}\")\n",
    "                  \n",
    "    i +=1"
   ]
  },
  {
   "cell_type": "markdown",
   "metadata": {},
   "source": [
    "# Evaluation"
   ]
  },
  {
   "cell_type": "code",
   "execution_count": null,
   "metadata": {
    "ExecuteTime": {
     "end_time": "2020-01-27T12:56:04.845533Z",
     "start_time": "2020-01-27T12:56:02.953256Z"
    },
    "scrolled": false
   },
   "outputs": [],
   "source": [
    "# Evalutation\n",
    "print(\">>> Computing AUC...\")\n",
    "\n",
    "from sklearn.metrics import roc_auc_score, roc_curve\n",
    "\n",
    "pred_test  = model.predict(X_test,  batch_size=2048)\n",
    "pred_train = model.predict(X_train, batch_size=2048)\n",
    "auc_w_test  = roc_auc_score(y_test, pred_test,  sample_weight=W_test)\n",
    "auc_w_train = roc_auc_score(y_train,pred_train, sample_weight=W_train)\n",
    "fpW_test,  tpW_test,  thW_test  = roc_curve(y_test,  pred_test , sample_weight=W_test)\n",
    "fpW_train, tpW_train, thW_train = roc_curve(y_train, pred_train, sample_weight=W_train)\n",
    "#print(\"AUC score: \" + str(auc))\n",
    "\n",
    "fig, ax1 = plt.subplots(figsize=(7,6), dpi=100)\n",
    "\n",
    "# ax1.plot(fp, tp, label=f\"ROC (AUC={auc:.3f})\", color=\"blue\")\n",
    "ax1.plot(fpW_test,  tpW_test,  label=f\"ROC test  (AUC={auc_w_test:.3f})\", color=\"red\")\n",
    "ax1.plot(fpW_train, tpW_train, label=f\"ROC train (AUC={auc_w_train:.3f})\", color=\"blue\")\n",
    "\n",
    "ax1.set_xlabel(\"Bkg contamination\", fontsize=18)\n",
    "ax1.set_ylabel(\"Signal efficiency\", fontsize=18)\n",
    "\n",
    "#ax1.plot([0,1],[1,1],\"b--\")\n",
    "ax1.tick_params(\"y\",labelsize=\"large\")\n",
    "\n",
    "ax1.grid()\n",
    "\n",
    "ax1.legend(loc=(0.4, 0.5), fontsize=\"large\")\n",
    "\n",
    "fig.tight_layout()"
   ]
  },
  {
   "cell_type": "code",
   "execution_count": 107,
   "metadata": {},
   "outputs": [],
   "source": [
    "#r = model.evaluate_generator(training_generator, steps=1000)\n",
    "#r = model.evaluate_generator(validation_generator, steps=1000)\n"
   ]
  },
  {
   "cell_type": "code",
   "execution_count": 108,
   "metadata": {},
   "outputs": [],
   "source": [
    "#print(model.metrics_names, r)"
   ]
  },
  {
   "cell_type": "code",
   "execution_count": null,
   "metadata": {
    "ExecuteTime": {
     "end_time": "2020-01-27T12:49:29.244227Z",
     "start_time": "2020-01-27T12:49:28.845434Z"
    }
   },
   "outputs": [],
   "source": [
    "fig, ax = plt.subplots(figsize=(7,6), dpi=100)\n",
    "ax.plot(history.epoch, history.history[\"val_loss\"], label=\"validation loss\")\n",
    "ax.plot(history.epoch, history.history[\"loss\"], label=\"training loss\")\n",
    "plt.legend()"
   ]
  },
  {
   "cell_type": "code",
   "execution_count": null,
   "metadata": {
    "ExecuteTime": {
     "end_time": "2020-01-27T12:50:20.776939Z",
     "start_time": "2020-01-27T12:50:20.294558Z"
    }
   },
   "outputs": [],
   "source": [
    "results_test  = model.predict(X_test, batch_size=2048)\n",
    "fig, ax1 = plt.subplots(figsize=(7,6), dpi=100)\n",
    "plt.hist(results_test[y_test==0],weights=W_test[y_test==0], bins=25, density=True, label=\"false test\", histtype=\"step\")\n",
    "plt.hist(results_test[y_test==1],weights=W_test[y_test==1], bins=25, density=True, label=\"true test\", histtype=\"step\")\n",
    "results_train = model.predict(X_train, batch_size=2048)\n",
    "plt.hist(results_train[y_train==0],weights=W_train[y_train==0], bins=25, density=True, label=\"false train\", histtype=\"step\")\n",
    "plt.hist(results_train[y_train==1],weights=W_train[y_train==1], bins=25, density=True, label=\"true train\", histtype=\"step\")\n",
    "#plt.yscale(\"log\")\n",
    "plt.legend()\n",
    "\n",
    "# \n",
    "# \n",
    "\n",
    "#results_train[y_train==1]\n",
    "rtest  = [x[0] for x in results_test[y_test==1]]\n",
    "rtrain = [x[0] for x in results_train[y_train==1]]\n",
    "\n",
    "from scipy import stats\n",
    "stats.ks_2samp(rtrain, rtest)"
   ]
  },
  {
   "cell_type": "markdown",
   "metadata": {},
   "source": [
    "## Evaluation by sample"
   ]
  },
  {
   "cell_type": "code",
   "execution_count": 57,
   "metadata": {
    "ExecuteTime": {
     "end_time": "2020-01-27T12:50:31.732230Z",
     "start_time": "2020-01-27T12:50:30.443931Z"
    }
   },
   "outputs": [],
   "source": [
    "bkg[\"y\"] = model.predict(scaler.transform(bkg[config[\"cols\"]].values), batch_size=2048)"
   ]
  },
  {
   "cell_type": "code",
   "execution_count": 58,
   "metadata": {
    "ExecuteTime": {
     "end_time": "2020-01-27T12:50:36.367097Z",
     "start_time": "2020-01-27T12:50:36.146436Z"
    }
   },
   "outputs": [],
   "source": [
    "signal[\"y\"] = model.predict(scaler.transform(signal[config[\"cols\"]].values), batch_size=2048)"
   ]
  },
  {
   "cell_type": "code",
   "execution_count": 59,
   "metadata": {
    "ExecuteTime": {
     "end_time": "2020-01-27T12:50:40.753728Z",
     "start_time": "2020-01-27T12:50:40.440558Z"
    }
   },
   "outputs": [],
   "source": [
    "wjets = bkg[bkg[\"sample_name\"] == \"Wjets\"]\n",
    "top = bkg[bkg[\"sample_name\"] == \"top\"]\n",
    "dy = bkg[bkg[\"sample_name\"] == \"DY\"]"
   ]
  },
  {
   "cell_type": "code",
   "execution_count": null,
   "metadata": {
    "ExecuteTime": {
     "end_time": "2020-01-27T12:50:45.162949Z",
     "start_time": "2020-01-27T12:50:44.453275Z"
    }
   },
   "outputs": [],
   "source": [
    "fig, ax1 = plt.subplots(figsize=(7,6), dpi=100)\n",
    "plt.hist(bkg[bkg[\"sample_name\"] == \"Wjets\"][\"y\"], bins=50, density=True, label=\"W+jets\", histtype=\"step\")\n",
    "plt.hist(bkg[bkg[\"sample_name\"] == \"top\"][\"y\"],   bins=50, density=True, label=\"top\",    histtype=\"step\")\n",
    "plt.hist(bkg[bkg[\"sample_name\"] == \"DY\"][\"y\"],    bins=50, density=True, label=\"DY\",     histtype=\"step\")\n",
    "\n",
    "plt.hist(signal[\"y\"], bins=50,density=True, label=\"signal\", histtype=\"step\")\n",
    "#plt.yscale(\"log\")\n",
    "plt.legend()"
   ]
  },
  {
   "cell_type": "code",
   "execution_count": null,
   "metadata": {
    "ExecuteTime": {
     "end_time": "2020-01-27T12:50:49.149563Z",
     "start_time": "2020-01-27T12:50:48.775604Z"
    }
   },
   "outputs": [],
   "source": [
    "fig, ax1 = plt.subplots(figsize=(7,6), dpi=100)\n",
    "plt.hist(wjets[\"y\"], weights=wjets.weight_norm, bins=50, density=True, label=\"W+jets\", histtype=\"step\")\n",
    "plt.hist(top[\"y\"],   weights=top.weight_norm,  bins=50, density=True, label=\"top\",    histtype=\"step\")\n",
    "plt.hist(dy[\"y\"],    weights=dy.weight_norm,  bins=50, density=True, label=\"DY\",     histtype=\"step\")\n",
    "\n",
    "plt.hist(signal[\"y\"], weights=signal.weight_norm, bins=50,density=True, label=\"signal\", histtype=\"step\")\n",
    "#plt.yscale(\"log\")\n",
    "plt.legend()"
   ]
  },
  {
   "cell_type": "code",
   "execution_count": null,
   "metadata": {},
   "outputs": [],
   "source": [
    "## some useful snippets\n",
    "\n",
    "## callbacks\n",
    "# auto_save = ModelCheckpoint(\"../models/model12_balanced_100_50.hd5\", monitor='val_loss', \n",
    "#                     verbose=1, save_best_only=True, save_weights_only=False, \n",
    "#                     mode='auto', period=5)\n",
    "#\n",
    "# early_stop = EarlyStopping(monitor='val_loss', min_delta=0.0001, \n",
    "#                             patience=10, verbose=1)\n",
    "\n",
    "\n",
    "\n",
    "\n",
    "\n",
    "\n",
    "## In case you do not want to use the generators\n",
    "# history = model.fit(\n",
    "#             X_train,y_train, \n",
    "#             sample_weight=W_train, \n",
    "#             epochs=50,\n",
    "#             validation_data = (X_val, y_val, W_val),\n",
    "#             batch_size=1024,\n",
    "#             shuffle=True \n",
    "#             )"
   ]
  },
  {
   "cell_type": "code",
   "execution_count": null,
   "metadata": {},
   "outputs": [],
   "source": []
  }
 ],
 "metadata": {
  "kernelspec": {
   "display_name": "Python 3",
   "language": "python",
   "name": "python3"
  },
  "language_info": {
   "codemirror_mode": {
    "name": "ipython",
    "version": 3
   },
   "file_extension": ".py",
   "mimetype": "text/x-python",
   "name": "python",
   "nbconvert_exporter": "python",
   "pygments_lexer": "ipython3",
   "version": "3.6.5"
  },
  "toc": {
   "base_numbering": 1,
   "nav_menu": {},
   "number_sections": true,
   "sideBar": true,
   "skip_h1_title": false,
   "title_cell": "Table of Contents",
   "title_sidebar": "Contents",
   "toc_cell": false,
   "toc_position": {},
   "toc_section_display": true,
   "toc_window_display": false
  },
  "varInspector": {
   "cols": {
    "lenName": 16,
    "lenType": 16,
    "lenVar": 40
   },
   "kernels_config": {
    "python": {
     "delete_cmd_postfix": "",
     "delete_cmd_prefix": "del ",
     "library": "var_list.py",
     "varRefreshCmd": "print(var_dic_list())"
    },
    "r": {
     "delete_cmd_postfix": ") ",
     "delete_cmd_prefix": "rm(",
     "library": "var_list.r",
     "varRefreshCmd": "cat(var_dic_list()) "
    }
   },
   "types_to_exclude": [
    "module",
    "function",
    "builtin_function_or_method",
    "instance",
    "_Feature"
   ],
   "window_display": false
  }
 },
 "nbformat": 4,
 "nbformat_minor": 2
}
